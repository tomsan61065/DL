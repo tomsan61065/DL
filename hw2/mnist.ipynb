{
 "cells": [
  {
   "cell_type": "code",
   "execution_count": 2,
   "metadata": {
    "colab": {
     "base_uri": "https://localhost:8080/",
     "height": 34
    },
    "colab_type": "code",
    "executionInfo": {
     "elapsed": 2629,
     "status": "ok",
     "timestamp": 1556855652236,
     "user": {
      "displayName": "Jerry Peng",
      "photoUrl": "https://lh5.googleusercontent.com/-X5dmdw86Bpo/AAAAAAAAAAI/AAAAAAAAAEc/gx43BV5vrGs/s64/photo.jpg",
      "userId": "10707771670913494566"
     },
     "user_tz": -480
    },
    "id": "eWoHtt5X0Qs_",
    "outputId": "f46bd4e5-2cce-4cab-ce0e-46b932d9b969",
    "scrolled": false
   },
   "outputs": [
    {
     "name": "stderr",
     "output_type": "stream",
     "text": [
      "Using TensorFlow backend.\n"
     ]
    },
    {
     "name": "stdout",
     "output_type": "stream",
     "text": [
      "[name: \"/device:CPU:0\"\n",
      "device_type: \"CPU\"\n",
      "memory_limit: 268435456\n",
      "locality {\n",
      "}\n",
      "incarnation: 1342742702176952561\n",
      ", name: \"/device:XLA_CPU:0\"\n",
      "device_type: \"XLA_CPU\"\n",
      "memory_limit: 17179869184\n",
      "locality {\n",
      "}\n",
      "incarnation: 6617366237253041276\n",
      "physical_device_desc: \"device: XLA_CPU device\"\n",
      "]\n"
     ]
    }
   ],
   "source": [
    "# load required packages\n",
    "import numpy as np\n",
    "import matplotlib.pyplot as plt\n",
    "%matplotlib inline\n",
    "\n",
    "# load required functionality from keras\n",
    "from keras.datasets import mnist\n",
    "from keras.models import Sequential\n",
    "from keras.layers import Dense, Dropout, Flatten\n",
    "from keras.layers import Conv2D, MaxPooling2D\n",
    "from keras.optimizers import RMSprop, Adadelta\n",
    "from keras.utils import np_utils\n",
    "from keras import backend as keras_backend\n",
    "from tensorflow.python.client import device_lib\n",
    "print(device_lib.list_local_devices())"
   ]
  },
  {
   "cell_type": "markdown",
   "metadata": {
    "colab_type": "text",
    "id": "ngzN9HbX0QtG"
   },
   "source": [
    "## MNIST Dataset\n",
    "The MNIST data set is a large database of handwritten digits (0-9) that is commonly used for training and benchmarking binary classification models.\n",
    "\n",
    "Before we create any models, we'll start by loading the MNIST data and viewing some sample images."
   ]
  },
  {
   "cell_type": "code",
   "execution_count": 3,
   "metadata": {
    "colab": {
     "base_uri": "https://localhost:8080/",
     "height": 51
    },
    "colab_type": "code",
    "executionInfo": {
     "elapsed": 1250,
     "status": "ok",
     "timestamp": 1556855669571,
     "user": {
      "displayName": "Jerry Peng",
      "photoUrl": "https://lh5.googleusercontent.com/-X5dmdw86Bpo/AAAAAAAAAAI/AAAAAAAAAEc/gx43BV5vrGs/s64/photo.jpg",
      "userId": "10707771670913494566"
     },
     "user_tz": -480
    },
    "id": "B_BlV7do0QtH",
    "outputId": "f72529d5-247d-4822-dbb2-5b9ca2cee9d4"
   },
   "outputs": [],
   "source": [
    "from keras.datasets import mnist\n",
    "\n",
    "# split MNIST data into training and testing sets\n",
    "# - training: data used to learn the model parameters\n",
    "# - testing: a separate set that we will use to validate our model performance\n",
    "(X_train, y_train), (X_test, y_test) = mnist.load_data()\n",
    "#http://yann.lecun.com/exdb/mnist/ 資料來源"
   ]
  },
  {
   "cell_type": "code",
   "execution_count": 4,
   "metadata": {
    "colab": {
     "base_uri": "https://localhost:8080/",
     "height": 34
    },
    "colab_type": "code",
    "executionInfo": {
     "elapsed": 728,
     "status": "ok",
     "timestamp": 1556855679201,
     "user": {
      "displayName": "Jerry Peng",
      "photoUrl": "https://lh5.googleusercontent.com/-X5dmdw86Bpo/AAAAAAAAAAI/AAAAAAAAAEc/gx43BV5vrGs/s64/photo.jpg",
      "userId": "10707771670913494566"
     },
     "user_tz": -480
    },
    "id": "ZFoAr7kV0QtN",
    "outputId": "d6b218e1-fab5-4935-afc5-9641058846fc"
   },
   "outputs": [
    {
     "name": "stdout",
     "output_type": "stream",
     "text": [
      "(60000, 28, 28)\n"
     ]
    }
   ],
   "source": [
    "# check the dimensions of the data\n",
    "print( X_train.shape ) # 60000筆 28*28"
   ]
  },
  {
   "cell_type": "code",
   "execution_count": 5,
   "metadata": {
    "colab": {
     "base_uri": "https://localhost:8080/",
     "height": 269
    },
    "colab_type": "code",
    "executionInfo": {
     "elapsed": 694,
     "status": "ok",
     "timestamp": 1556855703869,
     "user": {
      "displayName": "Jerry Peng",
      "photoUrl": "https://lh5.googleusercontent.com/-X5dmdw86Bpo/AAAAAAAAAAI/AAAAAAAAAEc/gx43BV5vrGs/s64/photo.jpg",
      "userId": "10707771670913494566"
     },
     "user_tz": -480
    },
    "id": "POw937pI0QtS",
    "outputId": "cff9e2f5-df09-40bb-be02-029498930397",
    "scrolled": true
   },
   "outputs": [
    {
     "data": {
      "image/png": "[encoded data removed]",
      "text/plain": [
       "<Figure size 432x288 with 1 Axes>"
      ]
     },
     "metadata": {
      "needs_background": "light"
     },
     "output_type": "display_data"
    }
   ],
   "source": [
    "# select an image\n",
    "img = X_train[0]\n",
    "\n",
    "# show the image\n",
    "plt.imshow(img, cmap='gray')\n",
    "plt.show()"
   ]
  },
  {
   "cell_type": "markdown",
   "metadata": {
    "colab_type": "text",
    "id": "RbQ09ace0QtW"
   },
   "source": [
    "Notice anything about the images? For example, how many pixels are in each image?\n",
    "    \n",
    "    每張圖都是 28*28，但實際數字的大小好像不到 28*28。反而像 20*20 置中有黑色的邊框\n",
    "    \n",
    "Now that we can view the images, let's try also showing the true label alongside the image:"
   ]
  },
  {
   "cell_type": "code",
   "execution_count": 6,
   "metadata": {
    "colab": {
     "base_uri": "https://localhost:8080/",
     "height": 281
    },
    "colab_type": "code",
    "executionInfo": {
     "elapsed": 1120,
     "status": "ok",
     "timestamp": 1556855746563,
     "user": {
      "displayName": "Jerry Peng",
      "photoUrl": "https://lh5.googleusercontent.com/-X5dmdw86Bpo/AAAAAAAAAAI/AAAAAAAAAEc/gx43BV5vrGs/s64/photo.jpg",
      "userId": "10707771670913494566"
     },
     "user_tz": -480
    },
    "id": "TRi_sEYl0QtX",
    "outputId": "7ac3f94f-0f51-4930-b708-4111cd5f1ea7"
   },
   "outputs": [
    {
     "data": {
      "image/png": "[encoded data removed]",
      "text/plain": [
       "<Figure size 432x288 with 1 Axes>"
      ]
     },
     "metadata": {
      "needs_background": "light"
     },
     "output_type": "display_data"
    }
   ],
   "source": [
    "# select one of the images and its corresponding label\n",
    "i = 403\n",
    "img = X_train[i]\n",
    "label = y_train[i]\n",
    "\n",
    "# show the image and its label\n",
    "plt.imshow(img, cmap='gray')\n",
    "plt.title(\"True label: %d\" % label)\n",
    "plt.show()"
   ]
  },
  {
   "cell_type": "markdown",
   "metadata": {
    "colab_type": "text",
    "id": "0c0P6d2S30Q6"
   },
   "source": []
  },
  {
   "cell_type": "markdown",
   "metadata": {
    "colab_type": "text",
    "id": "RlbCQU880Qtb"
   },
   "source": [
    "**Logistic regression implemented in Keras**\n"
   ]
  },
  {
   "cell_type": "markdown",
   "metadata": {
    "colab_type": "text",
    "id": "lsr2bf9D0Qtc"
   },
   "source": [
    "Before moving onto models, we should pre-process the MNIST data:\n",
    "1. reshape the MNIST images into 1D arrays (from 2D arrays)\n",
    "2. normalize the MNIST images\n",
    "3. convert the MNIST labels"
   ]
  },
  {
   "cell_type": "code",
   "execution_count": 7,
   "metadata": {
    "colab": {},
    "colab_type": "code",
    "id": "C3V2ifxq0Qtd"
   },
   "outputs": [],
   "source": [
    "\n",
    "# reshape the data: (n_samples, 28, 28) => (n_samples, 28*28)\n",
    "X_train = X_train.reshape(-1, 28 * 28)\n",
    "X_test = X_test.reshape(-1, 28 * 28)\n",
    "\n",
    "# convert data type and normalize the values (8-bit = 256 = 0...255)\n",
    "X_train = X_train.astype('float32') / 255\n",
    "X_test = X_test.astype('float32') / 255\n",
    "\n",
    "# convert the class labels to 10-dimensional class arrays:\n",
    "# 這邊就是上課說到 0~9 有大小差別的問題，所以轉成 bag of words\n",
    "# - before: y_train = (n_samples, )\n",
    "# - after: Y_train = (n_samples, 10)\n",
    "#\n",
    "Y_train = np_utils.to_categorical(y_train, 10)# keras 用 numpy 寫成的 function \n",
    "Y_test = np_utils.to_categorical(y_test, 10)# 詳情看 https://keras.io/utils/\n",
    "\n",
    "#y_Train = np.eye(10)[y_train] #這樣寫有同樣的效果 identity matrix 第 y_train row\n",
    "#print(y_Train[0])"
   ]
  },
  {
   "cell_type": "code",
   "execution_count": 8,
   "metadata": {
    "colab": {
     "base_uri": "https://localhost:8080/",
     "height": 34
    },
    "colab_type": "code",
    "executionInfo": {
     "elapsed": 694,
     "status": "ok",
     "timestamp": 1556856059689,
     "user": {
      "displayName": "Jerry Peng",
      "photoUrl": "https://lh5.googleusercontent.com/-X5dmdw86Bpo/AAAAAAAAAAI/AAAAAAAAAEc/gx43BV5vrGs/s64/photo.jpg",
      "userId": "10707771670913494566"
     },
     "user_tz": -480
    },
    "id": "6K0IQpBy2dEk",
    "outputId": "314d6dee-83d1-455f-e1a9-acd1f775e367"
   },
   "outputs": [
    {
     "name": "stdout",
     "output_type": "stream",
     "text": [
      "5 [0. 0. 0. 0. 0. 1. 0. 0. 0. 0.]\n"
     ]
    }
   ],
   "source": [
    "\n",
    "print(y_train[0], Y_train[0])"
   ]
  },
  {
   "cell_type": "code",
   "execution_count": 9,
   "metadata": {
    "colab": {
     "base_uri": "https://localhost:8080/",
     "height": 785
    },
    "colab_type": "code",
    "executionInfo": {
     "elapsed": 20677,
     "status": "ok",
     "timestamp": 1556856287187,
     "user": {
      "displayName": "Jerry Peng",
      "photoUrl": "https://lh5.googleusercontent.com/-X5dmdw86Bpo/AAAAAAAAAAI/AAAAAAAAAEc/gx43BV5vrGs/s64/photo.jpg",
      "userId": "10707771670913494566"
     },
     "user_tz": -480
    },
    "id": "mNF81u_h0Qtg",
    "outputId": "78f60761-d8b0-4dc8-eebf-59a23aa1dc32"
   },
   "outputs": [
    {
     "name": "stdout",
     "output_type": "stream",
     "text": [
      "WARNING:tensorflow:From /home/tom/anaconda3/envs/testJ/lib/python3.7/site-packages/tensorflow/python/framework/op_def_library.py:263: colocate_with (from tensorflow.python.framework.ops) is deprecated and will be removed in a future version.\n",
      "Instructions for updating:\n",
      "Colocations handled automatically by placer.\n",
      "WARNING:tensorflow:From /home/tom/anaconda3/envs/testJ/lib/python3.7/site-packages/tensorflow/python/ops/math_ops.py:3066: to_int32 (from tensorflow.python.ops.math_ops) is deprecated and will be removed in a future version.\n",
      "Instructions for updating:\n",
      "Use tf.cast instead.\n",
      "Train on 60000 samples, validate on 10000 samples\n",
      "Epoch 1/20\n"
     ]
    },
    {
     "name": "stderr",
     "output_type": "stream",
     "text": [
      "/home/tom/anaconda3/envs/testJ/lib/python3.7/site-packages/ipykernel_launcher.py:20: UserWarning: The `nb_epoch` argument in `fit` has been renamed `epochs`.\n"
     ]
    },
    {
     "name": "stdout",
     "output_type": "stream",
     "text": [
      "60000/60000 [==============================] - 1s 15us/step - loss: 0.0888 - acc: 0.1790 - val_loss: 0.0873 - val_acc: 0.2312\n",
      "Epoch 2/20\n",
      "60000/60000 [==============================] - 1s 9us/step - loss: 0.0857 - acc: 0.2763 - val_loss: 0.0841 - val_acc: 0.3158\n",
      "Epoch 3/20\n",
      "60000/60000 [==============================] - 1s 10us/step - loss: 0.0824 - acc: 0.3466 - val_loss: 0.0807 - val_acc: 0.3849\n",
      "Epoch 4/20\n",
      "60000/60000 [==============================] - 1s 11us/step - loss: 0.0790 - acc: 0.4072 - val_loss: 0.0772 - val_acc: 0.4389\n",
      "Epoch 5/20\n",
      "60000/60000 [==============================] - 1s 10us/step - loss: 0.0757 - acc: 0.4660 - val_loss: 0.0739 - val_acc: 0.5001\n",
      "Epoch 6/20\n",
      "60000/60000 [==============================] - 1s 10us/step - loss: 0.0724 - acc: 0.5306 - val_loss: 0.0706 - val_acc: 0.5657\n",
      "Epoch 7/20\n",
      "60000/60000 [==============================] - 1s 9us/step - loss: 0.0692 - acc: 0.5865 - val_loss: 0.0674 - val_acc: 0.6070\n",
      "Epoch 8/20\n",
      "60000/60000 [==============================] - 1s 8us/step - loss: 0.0662 - acc: 0.6214 - val_loss: 0.0643 - val_acc: 0.6374\n",
      "Epoch 9/20\n",
      "60000/60000 [==============================] - 1s 8us/step - loss: 0.0632 - acc: 0.6454 - val_loss: 0.0614 - val_acc: 0.6619\n",
      "Epoch 10/20\n",
      "60000/60000 [==============================] - 0s 8us/step - loss: 0.0605 - acc: 0.6632 - val_loss: 0.0587 - val_acc: 0.6804\n",
      "Epoch 11/20\n",
      "60000/60000 [==============================] - 1s 8us/step - loss: 0.0579 - acc: 0.6799 - val_loss: 0.0562 - val_acc: 0.6955\n",
      "Epoch 12/20\n",
      "60000/60000 [==============================] - 1s 9us/step - loss: 0.0556 - acc: 0.6941 - val_loss: 0.0539 - val_acc: 0.7096\n",
      "Epoch 13/20\n",
      "60000/60000 [==============================] - 0s 8us/step - loss: 0.0535 - acc: 0.7076 - val_loss: 0.0518 - val_acc: 0.7222\n",
      "Epoch 14/20\n",
      "60000/60000 [==============================] - 1s 9us/step - loss: 0.0516 - acc: 0.7194 - val_loss: 0.0500 - val_acc: 0.7334\n",
      "Epoch 15/20\n",
      "60000/60000 [==============================] - 1s 10us/step - loss: 0.0498 - acc: 0.7286 - val_loss: 0.0483 - val_acc: 0.7411\n",
      "Epoch 16/20\n",
      "60000/60000 [==============================] - 1s 10us/step - loss: 0.0483 - acc: 0.7362 - val_loss: 0.0467 - val_acc: 0.7482\n",
      "Epoch 17/20\n",
      "60000/60000 [==============================] - 1s 10us/step - loss: 0.0468 - acc: 0.7433 - val_loss: 0.0454 - val_acc: 0.7553\n",
      "Epoch 18/20\n",
      "60000/60000 [==============================] - 1s 10us/step - loss: 0.0455 - acc: 0.7488 - val_loss: 0.0441 - val_acc: 0.7601\n",
      "Epoch 19/20\n",
      "60000/60000 [==============================] - 1s 10us/step - loss: 0.0444 - acc: 0.7530 - val_loss: 0.0429 - val_acc: 0.7667\n",
      "Epoch 20/20\n",
      "60000/60000 [==============================] - 1s 8us/step - loss: 0.0433 - acc: 0.7581 - val_loss: 0.0419 - val_acc: 0.7724\n",
      "Test score: 0.04186181620061397\n",
      "Test accuracy: 0.7724\n"
     ]
    }
   ],
   "source": [
    "# create the model\n",
    "model = Sequential()\n",
    "model.add(Dense(10, input_dim=28*28, activation='softmax'))\n",
    "\n",
    "# compile the model\n",
    "#model.compile(loss='categorical_crossentropy',\n",
    "#              optimizer='sgd',\n",
    "#              metrics=['accuracy'])            \n",
    "model.compile(loss='mean_squared_error',\n",
    "              optimizer='sgd',\n",
    "              metrics=['accuracy'])            \n",
    "\n",
    "\n",
    "# train the model on data\n",
    "model.fit(X_train, Y_train,\n",
    "          batch_size=128, # how many images to look at together\n",
    "          nb_epoch=20,       # how many epochs to run before stopping\n",
    "          #舊版寫法，新版 epochs\n",
    "          verbose=1,\n",
    "          validation_data=(X_test, Y_test)\n",
    "         )\n",
    "\n",
    "# test the trained model on the testing set\n",
    "score = model.evaluate(X_test, Y_test, verbose=0) \n",
    "\n",
    "print('Test score:', score[0]) \n",
    "print('Test accuracy:', score[1])"
   ]
  },
  {
   "cell_type": "code",
   "execution_count": 10,
   "metadata": {
    "colab": {
     "base_uri": "https://localhost:8080/",
     "height": 281
    },
    "colab_type": "code",
    "executionInfo": {
     "elapsed": 722,
     "status": "ok",
     "timestamp": 1556841196972,
     "user": {
      "displayName": "Jerry Peng",
      "photoUrl": "https://lh5.googleusercontent.com/-X5dmdw86Bpo/AAAAAAAAAAI/AAAAAAAAAEc/gx43BV5vrGs/s64/photo.jpg",
      "userId": "10707771670913494566"
     },
     "user_tz": -480
    },
    "id": "62uUbq530Qtm",
    "outputId": "78b71840-df89-407a-bfa6-c4f2a0dd20bd"
   },
   "outputs": [
    {
     "data": {
      "image/png": "[encoded data removed]",
      "text/plain": [
       "<Figure size 432x288 with 1 Axes>"
      ]
     },
     "metadata": {
      "needs_background": "light"
     },
     "output_type": "display_data"
    }
   ],
   "source": [
    "# select an image\n",
    "i = 200\n",
    "img = X_test[i].reshape(28, 28)\n",
    "\n",
    "# prepare the image to be used in the model\n",
    "x = img.reshape(-1, 28*28)\n",
    "\n",
    "# get the model output\n",
    "model_label = np.argmax( model.predict(x) )\n",
    "\n",
    "# get the true label\n",
    "true_label = np.argmax(Y_test[i])\n",
    "\n",
    "plt.imshow(img, cmap='gray')\n",
    "plt.title('True label: {0}, Model label: {1}'.format(true_label, model_label))\n",
    "plt.show()"
   ]
  },
  {
   "cell_type": "markdown",
   "metadata": {
    "colab_type": "text",
    "id": "1MQC55ZQ0Qto"
   },
   "source": [
    "**Multilayer Perceptron (MLP)**\n",
    "\n",
    "Next we'll try out a \"classic\" neural network model (i.e. not a deep neural network).\n",
    "\n",
    "A Multilayer Perceptron (aka an Artificial Neural Network) is made up of an input layer, one or more hidden layers, and an output layer"
   ]
  },
  {
   "cell_type": "code",
   "execution_count": 11,
   "metadata": {
    "colab": {},
    "colab_type": "code",
    "id": "c9hqBLv70Qts"
   },
   "outputs": [
    {
     "name": "stdout",
     "output_type": "stream",
     "text": [
      "WARNING:tensorflow:From /home/tom/anaconda3/envs/testJ/lib/python3.7/site-packages/keras/backend/tensorflow_backend.py:3445: calling dropout (from tensorflow.python.ops.nn_ops) with keep_prob is deprecated and will be removed in a future version.\n",
      "Instructions for updating:\n",
      "Please use `rate` instead of `keep_prob`. Rate should be set to `rate = 1 - keep_prob`.\n",
      "_________________________________________________________________\n",
      "Layer (type)                 Output Shape              Param #   \n",
      "=================================================================\n",
      "dense_2 (Dense)              (None, 512)               401920    \n",
      "_________________________________________________________________\n",
      "dropout_1 (Dropout)          (None, 512)               0         \n",
      "_________________________________________________________________\n",
      "dense_3 (Dense)              (None, 512)               262656    \n",
      "_________________________________________________________________\n",
      "dropout_2 (Dropout)          (None, 512)               0         \n",
      "_________________________________________________________________\n",
      "dense_4 (Dense)              (None, 10)                5130      \n",
      "=================================================================\n",
      "Total params: 669,706\n",
      "Trainable params: 669,706\n",
      "Non-trainable params: 0\n",
      "_________________________________________________________________\n",
      "None\n",
      "Train on 60000 samples, validate on 10000 samples\n",
      "Epoch 1/2\n",
      "60000/60000 [==============================] - 6s 98us/step - loss: 0.2489 - acc: 0.9238 - val_loss: 0.1060 - val_acc: 0.9672\n",
      "Epoch 2/2\n",
      "60000/60000 [==============================] - 5s 82us/step - loss: 0.1016 - acc: 0.9696 - val_loss: 0.0901 - val_acc: 0.9734\n",
      "Test loss: 0.09007742722716648\n",
      "Test accuracy: 0.9734\n"
     ]
    }
   ],
   "source": [
    "# create the MLP model\n",
    "model = Sequential()\n",
    "# implicit input layer 28*28 node \n",
    "# with hidden layer 512 node\n",
    "model.add(Dense(512, activation='relu', input_shape=(28*28,)))\n",
    "model.add(Dropout(0.2))\n",
    "model.add(Dense(512, activation='relu')) # hidden layers\n",
    "model.add(Dropout(0.2))\n",
    "model.add(Dense(10, activation='softmax')) # output layer\n",
    "\n",
    "# print a summary of the model topology\n",
    "print( model.summary() )\n",
    "\n",
    "model.compile(loss='categorical_crossentropy',\n",
    "              optimizer=RMSprop(),\n",
    "              metrics=['accuracy'])\n",
    "\n",
    "model.fit(X_train, Y_train,\n",
    "          batch_size=128,\n",
    "          epochs=2,\n",
    "          verbose=1,\n",
    "          validation_data=(X_test, Y_test))\n",
    "\n",
    "score = model.evaluate(X_test, Y_test, verbose=0)\n",
    "\n",
    "print('Test loss:', score[0])\n",
    "print('Test accuracy:', score[1])"
   ]
  },
  {
   "cell_type": "markdown",
   "metadata": {
    "colab_type": "text",
    "id": "rfjucLyT0Qtu"
   },
   "source": [
    "**Discussion**\n",
    "**Question 1:** How did the accuracy of the MLP model compare to the Logistic Regression model?\n",
    "\n",
    "    0.7872 與 0.9763 ，MLP 準確度高很多\n",
    "\n",
    "**Question 2:** Can you identify any other differences between the MLP and Logistic Regression models? *Hint:* Was there a difference in the code complexity and/or training time?\n",
    "\n",
    "    MLP -> 多層的 Logistic Regression，2 epoch 300 us, vs 20 epoch 20*30 us"
   ]
  },
  {
   "cell_type": "markdown",
   "metadata": {
    "colab_type": "text",
    "id": "ZCtCleCi0Qtw"
   },
   "source": [
    "**Convolutional Neural Network (CNN)**\n",
    "Now let's try out first deep neural network: a Convolutional Neural Network (CNN).\n",
    "\n",
    "The CNN is made up of a few core layer types, which get stacked on top of each other:\n",
    "- convolutional layers (2D)\n",
    "- max pooling layers (2D)\n",
    "- fully connected (aka densely connected) layers (same type as in the MLP model)\n"
   ]
  },
  {
   "cell_type": "markdown",
   "metadata": {
    "colab_type": "text",
    "id": "0knPgk1k0Qtw"
   },
   "source": [
    "First, we need to perform pre-processing on the MNIST data, but with a slight tweak from the previous examples:"
   ]
  },
  {
   "cell_type": "code",
   "execution_count": 12,
   "metadata": {},
   "outputs": [
    {
     "name": "stdout",
     "output_type": "stream",
     "text": [
      "(60000, 28, 28)\n",
      "(10000, 28, 28)\n",
      "(60000, 784)\n"
     ]
    },
    {
     "data": {
      "image/png": "[encoded data removed]",
      "text/plain": [
       "<Figure size 432x288 with 1 Axes>"
      ]
     },
     "metadata": {
      "needs_background": "light"
     },
     "output_type": "display_data"
    }
   ],
   "source": [
    "# load the data again (to be safe)\n",
    "(X_train, y_train), (X_test, y_test) = mnist.load_data()\n",
    "\n",
    "\"\"\"\n",
    "    Adding noise to image\n",
    "\"\"\"\n",
    "import random \n",
    "\n",
    "print(X_train.shape)\n",
    "print(X_test.shape)\n",
    "\n",
    "# 10%, 20%, 40%\n",
    "img_size = 28*28\n",
    "\n",
    "X_train_10 = np.zeros((60000, 28*28))\n",
    "X_test_10 = np.zeros((10000, 28*28))\n",
    "X_train_20 = np.zeros((60000, 28*28))\n",
    "X_test_20 = np.zeros((10000, 28*28))\n",
    "X_train_40 = np.zeros((60000, 28*28))\n",
    "X_test_40 = np.zeros((10000, 28*28))\n",
    "\n",
    "for i in range(len(X_train)): \n",
    "    ran_seq = random.sample([n for n in range(img_size)], np.int(img_size* 0.1)) \n",
    "    ran_seq2 = random.sample([n for n in range(img_size)], np.int(img_size* 0.2)) \n",
    "    ran_seq3 = random.sample([n for n in range(img_size)], np.int(img_size* 0.4)) \n",
    "    X_train_10[i] = X_train[i].reshape(-1, img_size) \n",
    "    X_train_20[i] = np.copy(X_train_10[i])\n",
    "    X_train_40[i] = np.copy(X_train_10[i])\n",
    "    X_train_10[i, ran_seq] = 255\n",
    "    X_train_20[i, ran_seq2] = 255\n",
    "    X_train_40[i, ran_seq3] = 255\n",
    "\n",
    "for i in range(len(X_test)):\n",
    "    ran_seq = random.sample([n for n in range(img_size)], np.int(img_size* 0.1)) \n",
    "    ran_seq2 = random.sample([n for n in range(img_size)], np.int(img_size* 0.2)) \n",
    "    ran_seq3 = random.sample([n for n in range(img_size)], np.int(img_size* 0.4)) \n",
    "    X_test_10[i] = X_test[i].reshape(-1, img_size) \n",
    "    X_test_20[i] = np.copy(X_test_10[i])\n",
    "    X_test_40[i] = np.copy(X_test_10[i])\n",
    "    X_test_10[i, ran_seq] = 255\n",
    "    X_test_20[i, ran_seq2] = 255\n",
    "    X_test_40[i, ran_seq3] = 255\n",
    "    \n",
    "print(X_train_10.shape)\n",
    "#print(x[1])\n",
    "\n",
    "img = X_train_10[1].reshape(28, 28)\n",
    "label = y_train[1]\n",
    "\n",
    "# show the image and its label\n",
    "plt.imshow(img, cmap='gray')\n",
    "plt.title(\"True label: %d\" % label)\n",
    "plt.show()\n",
    "\n"
   ]
  },
  {
   "cell_type": "code",
   "execution_count": 13,
   "metadata": {
    "colab": {},
    "colab_type": "code",
    "id": "bU9311av0Qtx",
    "scrolled": true
   },
   "outputs": [
    {
     "name": "stdout",
     "output_type": "stream",
     "text": [
      "(60000, 28, 28, 1)\n"
     ]
    },
    {
     "data": {
      "image/png": "[encoded data removed]",
      "text/plain": [
       "<Figure size 432x288 with 1 Axes>"
      ]
     },
     "metadata": {
      "needs_background": "light"
     },
     "output_type": "display_data"
    }
   ],
   "source": [
    "# reshape the data based on what backend is in use (TensorFlow or Thean)\n",
    "if keras_backend.image_data_format() == 'channels_first': #Thean\n",
    "    X_train = X_train.reshape(-1, 1, 28, 28)\n",
    "    X_test = X_test.reshape(-1, 1, 28, 28)\n",
    "else: # TensorFlow\n",
    "    X_train = X_train.reshape(-1, 28, 28, 1)\n",
    "    X_test = X_test.reshape(-1, 28, 28, 1)\n",
    "    X_train_10 = X_train_10.reshape(-1, 28, 28, 1)\n",
    "    X_train_20 = X_train_20.reshape(-1, 28, 28, 1)\n",
    "    X_train_40 = X_train_40.reshape(-1, 28, 28, 1)\n",
    "    X_test_10 = X_test_10.reshape(-1, 28, 28, 1)\n",
    "    X_test_20 = X_test_20.reshape(-1, 28, 28, 1)\n",
    "    X_test_40 = X_test_40.reshape(-1, 28, 28, 1)\n",
    "\n",
    "print(X_train.shape)\n",
    "\n",
    "img = X_train[1, :, :, 0]\n",
    "label = y_train[1]\n",
    "\n",
    "# show the image and its label\n",
    "plt.imshow(img, cmap='gray')\n",
    "plt.title(\"True label: %d\" % label)\n",
    "plt.show()\n",
    "\n",
    "\n",
    "# convert data type and normalize the values (8-bit = 256 = 0...255)\n",
    "X_train = X_train.astype('float32') / 255\n",
    "X_test = X_test.astype('float32') / 255\n",
    "X_train_10 = X_train_10.astype('float32') / 255\n",
    "X_train_20 = X_train_20.astype('float32') / 255\n",
    "X_train_40 = X_train_40.astype('float32') / 255\n",
    "X_test_10 = X_test_10.astype('float32') / 255\n",
    "X_test_20 = X_test_20.astype('float32') / 255\n",
    "X_test_40 = X_test_40.astype('float32') / 255\n",
    "\n",
    "# convert the class labels to 10-dimensional class arrays:\n",
    "# - before: y_train = (n_samples, )\n",
    "# - after: Y_train = (n_samples, 10)\n",
    "#\n",
    "Y_train = np_utils.to_categorical(y_train, 10)\n",
    "Y_test = np_utils.to_categorical(y_test, 10)"
   ]
  },
  {
   "cell_type": "code",
   "execution_count": 14,
   "metadata": {
    "colab": {},
    "colab_type": "code",
    "id": "5pRy3MhF0Qt0"
   },
   "outputs": [
    {
     "name": "stdout",
     "output_type": "stream",
     "text": [
      "== origin ==\n",
      "Train on 60000 samples, validate on 10000 samples\n",
      "Epoch 1/2\n",
      "60000/60000 [==============================] - 42s 703us/step - loss: 0.2629 - acc: 0.9202 - val_loss: 0.0529 - val_acc: 0.9830\n",
      "Epoch 2/2\n",
      "60000/60000 [==============================] - 42s 696us/step - loss: 0.0887 - acc: 0.9737 - val_loss: 0.0380 - val_acc: 0.9876\n",
      "Test loss: 0.037965699059228065\n",
      "Test accuracy: 0.9876\n",
      "\n",
      "== 10% ==\n",
      "Train on 60000 samples, validate on 10000 samples\n",
      "Epoch 1/2\n",
      "60000/60000 [==============================] - 42s 707us/step - loss: 0.1016 - acc: 0.9688 - val_loss: 0.0495 - val_acc: 0.9836\n",
      "Epoch 2/2\n",
      "60000/60000 [==============================] - 43s 717us/step - loss: 0.0758 - acc: 0.9765 - val_loss: 0.0456 - val_acc: 0.9843\n",
      "Train loss: 0.03513833570364708\n",
      "Train accuracy: 0.9897\n",
      "Test loss: 0.04555246528948192\n",
      "Test accuracy: 0.9843\n",
      "\n",
      "== 20% ==\n",
      "Train on 60000 samples, validate on 10000 samples\n",
      "Epoch 1/2\n",
      "60000/60000 [==============================] - 44s 731us/step - loss: 0.0992 - acc: 0.9695 - val_loss: 0.0535 - val_acc: 0.9819\n",
      "Epoch 2/2\n",
      "60000/60000 [==============================] - 43s 722us/step - loss: 0.0806 - acc: 0.9758 - val_loss: 0.0513 - val_acc: 0.9827\n",
      "Train loss: 0.033873385825799775\n",
      "Train accuracy: 0.9897666666666667\n",
      "Test loss: 0.05126351040871232\n",
      "Test accuracy: 0.9827\n",
      "\n",
      "== 40% ==\n",
      "Train on 60000 samples, validate on 10000 samples\n",
      "Epoch 1/2\n",
      "60000/60000 [==============================] - 43s 723us/step - loss: 0.1693 - acc: 0.9470 - val_loss: 0.0987 - val_acc: 0.9675\n",
      "Epoch 2/2\n",
      "60000/60000 [==============================] - 43s 722us/step - loss: 0.1252 - acc: 0.9596 - val_loss: 0.0879 - val_acc: 0.9703\n",
      "Train loss: 0.05880148613626758\n",
      "Train accuracy: 0.9818833333333333\n",
      "Test loss: 0.08792105549634434\n",
      "Test accuracy: 0.9703\n"
     ]
    }
   ],
   "source": [
    "# create the CNN model\n",
    "model = Sequential()\n",
    "\n",
    "model.add(Conv2D(32, kernel_size=(3, 3),\n",
    "                 activation='relu',\n",
    "                 input_shape=(28, 28, 1)\n",
    "                ))\n",
    "model.add(Conv2D(64, (3, 3), activation='relu'))\n",
    "model.add(MaxPooling2D(pool_size=(2, 2)))\n",
    "model.add(Dropout(0.25))\n",
    "model.add(Flatten())\n",
    "model.add(Dense(128, activation='relu'))\n",
    "model.add(Dropout(0.5))\n",
    "model.add(Dense(10, activation='softmax'))\n",
    "\n",
    "model.compile(loss='categorical_crossentropy',\n",
    "              optimizer=Adadelta(),\n",
    "              metrics=['accuracy'])\n",
    "\n",
    "\n",
    "print(\"== origin ==\")\n",
    "model.fit(X_train, Y_train,\n",
    "          batch_size=128,\n",
    "          epochs=2,\n",
    "          verbose=1,\n",
    "          validation_data=(X_test, Y_test))\n",
    "\n",
    "score = model.evaluate(X_test, Y_test, verbose=0)\n",
    "print('Test loss:', score[0])\n",
    "print('Test accuracy:', score[1])\n",
    "\n",
    "\n",
    "print(\"\\n== 10% ==\")\n",
    "model.fit(X_train_10, Y_train,\n",
    "          batch_size=128,\n",
    "          epochs=2,\n",
    "          verbose=1,\n",
    "          validation_data=(X_test_10, Y_test))\n",
    "\n",
    "score = model.evaluate(X_train_10, Y_train, verbose=0)\n",
    "print('Train loss:', score[0])\n",
    "print('Train accuracy:', score[1])\n",
    "score = model.evaluate(X_test_10, Y_test, verbose=0)\n",
    "print('Test loss:', score[0])\n",
    "print('Test accuracy:', score[1])\n",
    "\n",
    "\n",
    "print(\"\\n== 20% ==\")\n",
    "model.fit(X_train_20, Y_train,\n",
    "          batch_size=128,\n",
    "          epochs=2,\n",
    "          verbose=1,\n",
    "          validation_data=(X_test_20, Y_test))\n",
    "\n",
    "score = model.evaluate(X_train_20, Y_train, verbose=0)\n",
    "print('Train loss:', score[0])\n",
    "print('Train accuracy:', score[1])\n",
    "score = model.evaluate(X_test_20, Y_test, verbose=0)\n",
    "print('Test loss:', score[0])\n",
    "print('Test accuracy:', score[1])\n",
    "\n",
    "\n",
    "print(\"\\n== 40% ==\")\n",
    "model.fit(X_train_40, Y_train,\n",
    "          batch_size=128,\n",
    "          epochs=2,\n",
    "          verbose=1,\n",
    "          validation_data=(X_test_40, Y_test))\n",
    "\n",
    "score = model.evaluate(X_train_40, Y_train, verbose=0)\n",
    "print('Train loss:', score[0])\n",
    "print('Train accuracy:', score[1])\n",
    "score = model.evaluate(X_test_40, Y_test, verbose=0)\n",
    "print('Test loss:', score[0])\n",
    "print('Test accuracy:', score[1])"
   ]
  },
  {
   "cell_type": "markdown",
   "metadata": {
    "colab_type": "text",
    "collapsed": true,
    "id": "3FVOAray0Qt2"
   },
   "source": [
    "**Discussion**\n",
    "**Question 1:** How did the accuracy of the CNN compare to the MLP and Logistic Regression models?\n",
    "    \n",
    "    CNN:0.9864 > MLP:0.9763 > Logistic:0.7872\n",
    "    \n",
    "**Question 2:** Can you identify any other differences between the three models?\n",
    "\n",
    "    CNN 多了 Conv2D, pooling "
   ]
  },
  {
   "cell_type": "code",
   "execution_count": null,
   "metadata": {},
   "outputs": [],
   "source": []
  }
 ],
 "metadata": {
  "colab": {
   "collapsed_sections": [],
   "name": "1_mnist.ipynb",
   "provenance": [],
   "version": "0.3.2"
  },
  "kernelspec": {
   "display_name": "Python 3",
   "language": "python",
   "name": "python3"
  },
  "language_info": {
   "codemirror_mode": {
    "name": "ipython",
    "version": 3
   },
   "file_extension": ".py",
   "mimetype": "text/x-python",
   "name": "python",
   "nbconvert_exporter": "python",
   "pygments_lexer": "ipython3",
   "version": "3.7.3"
  }
 },
 "nbformat": 4,
 "nbformat_minor": 1
}

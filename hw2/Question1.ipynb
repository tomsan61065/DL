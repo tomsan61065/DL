{
 "cells": [
  {
   "cell_type": "code",
   "execution_count": 3,
   "metadata": {},
   "outputs": [
    {
     "name": "stderr",
     "output_type": "stream",
     "text": [
      "Using TensorFlow backend.\n"
     ]
    }
   ],
   "source": [
    "import scipy.io as sio # python 讀取 .mat file\n",
    "import numpy as np\n",
    "import matplotlib.pyplot as plt\n",
    "%matplotlib inline\n",
    "\n",
    "from keras.datasets import mnist\n",
    "from keras.models import Sequential\n",
    "from keras.layers import Dense, Activation, Flatten\n",
    "from keras.optimizers import Adam\n",
    "from keras.utils import np_utils\n",
    "from keras import backend as keras_backend\n",
    "#from tensorflow.python.client import device_lib\n",
    "#print(device_lib.list_local_devices()) #check available device"
   ]
  },
  {
   "cell_type": "code",
   "execution_count": 18,
   "metadata": {},
   "outputs": [
    {
     "name": "stdout",
     "output_type": "stream",
     "text": [
      "[array(['setosa'], dtype='<U6')] [5.1 3.5 1.4 0.2]\n"
     ]
    }
   ],
   "source": [
    "matData = sio.loadmat(\"fisheriris.mat\") # 鳶尾花\n",
    "\n",
    "#print(matData.items()) # 得知有哪些 items \n",
    "\n",
    "# iris(species, meas)\n",
    "irisSpecies = np.array(matData[\"species\"]) # type(setosa, versicolor, virginica)\n",
    "irisMeas = np.array(matData[\"meas\"]) # sepal(花萼)長、寬, petal(花瓣)長、寬 cm\n",
    "print(irisSpecies[0], irisMeas[0])"
   ]
  },
  {
   "cell_type": "code",
   "execution_count": 19,
   "metadata": {},
   "outputs": [
    {
     "name": "stdout",
     "output_type": "stream",
     "text": [
      "[ 1.       0.       0.99539 -0.05889  0.85243  0.02306  0.83398 -0.37708\n",
      "  1.       0.0376   0.85243 -0.17755  0.59755 -0.44945  0.60536 -0.38223\n",
      "  0.84356 -0.38542  0.58212 -0.32192  0.56971 -0.29674  0.36946 -0.47357\n",
      "  0.56811 -0.51171  0.41078 -0.46168  0.21266 -0.3409   0.42267 -0.54487\n",
      "  0.18641 -0.453  ] [array(['g'], dtype='<U1')]\n"
     ]
    }
   ],
   "source": [
    "matData = sio.loadmat(\"ionosphere.mat\") # 電離層\n",
    "#print(matData.items())\n",
    "\n",
    "# X, Y\n",
    "ionosphereX = np.array(matData[\"X\"])\n",
    "ionosphereY = np.array(matData[\"Y\"])\n",
    "print(ionosphereX[0], ionosphereY[0])"
   ]
  },
  {
   "cell_type": "code",
   "execution_count": null,
   "metadata": {},
   "outputs": [],
   "source": []
  }
 ],
 "metadata": {
  "kernelspec": {
   "display_name": "Python 3",
   "language": "python",
   "name": "python3"
  },
  "language_info": {
   "codemirror_mode": {
    "name": "ipython",
    "version": 3
   },
   "file_extension": ".py",
   "mimetype": "text/x-python",
   "name": "python",
   "nbconvert_exporter": "python",
   "pygments_lexer": "ipython3",
   "version": "3.7.2"
  }
 },
 "nbformat": 4,
 "nbformat_minor": 2
}

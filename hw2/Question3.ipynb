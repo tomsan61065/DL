{
 "cells": [
  {
   "cell_type": "code",
   "execution_count": 2,
   "metadata": {
    "colab": {
     "base_uri": "https://localhost:8080/",
     "height": 34
    },
    "colab_type": "code",
    "executionInfo": {
     "elapsed": 2629,
     "status": "ok",
     "timestamp": 1556855652236,
     "user": {
      "displayName": "Jerry Peng",
      "photoUrl": "https://lh5.googleusercontent.com/-X5dmdw86Bpo/AAAAAAAAAAI/AAAAAAAAAEc/gx43BV5vrGs/s64/photo.jpg",
      "userId": "10707771670913494566"
     },
     "user_tz": -480
    },
    "id": "eWoHtt5X0Qs_",
    "outputId": "f46bd4e5-2cce-4cab-ce0e-46b932d9b969",
    "scrolled": false
   },
   "outputs": [
    {
     "name": "stderr",
     "output_type": "stream",
     "text": [
      "Using TensorFlow backend.\n"
     ]
    },
    {
     "name": "stdout",
     "output_type": "stream",
     "text": [
      "[name: \"/device:CPU:0\"\n",
      "device_type: \"CPU\"\n",
      "memory_limit: 268435456\n",
      "locality {\n",
      "}\n",
      "incarnation: 5825507353304277455\n",
      ", name: \"/device:XLA_CPU:0\"\n",
      "device_type: \"XLA_CPU\"\n",
      "memory_limit: 17179869184\n",
      "locality {\n",
      "}\n",
      "incarnation: 8928625988029623871\n",
      "physical_device_desc: \"device: XLA_CPU device\"\n",
      "]\n"
     ]
    }
   ],
   "source": [
    "# load required packages\n",
    "import numpy as np\n",
    "import matplotlib.pyplot as plt\n",
    "%matplotlib inline\n",
    "\n",
    "# load required functionality from keras\n",
    "from keras.datasets import mnist\n",
    "from keras.models import Sequential\n",
    "from keras.layers import Dense, Dropout, Flatten\n",
    "from keras.layers import Conv2D, MaxPooling2D\n",
    "from keras.optimizers import RMSprop, Adadelta, Adam\n",
    "from keras.utils import np_utils\n",
    "from keras import backend as keras_backend\n",
    "from tensorflow.python.client import device_lib\n",
    "print(device_lib.list_local_devices())"
   ]
  },
  {
   "cell_type": "markdown",
   "metadata": {
    "colab_type": "text",
    "id": "ZCtCleCi0Qtw"
   },
   "source": [
    "**Convolutional Neural Network (CNN)**\n",
    "Now let's try out first deep neural network: a Convolutional Neural Network (CNN).\n",
    "\n",
    "The CNN is made up of a few core layer types, which get stacked on top of each other:\n",
    "- convolutional layers (2D)\n",
    "- max pooling layers (2D)\n",
    "- fully connected (aka densely connected) layers (same type as in the MLP model)\n"
   ]
  },
  {
   "cell_type": "markdown",
   "metadata": {
    "colab_type": "text",
    "id": "0knPgk1k0Qtw"
   },
   "source": [
    "First, we need to perform pre-processing on the MNIST data, but with a slight tweak from the previous examples:"
   ]
  },
  {
   "cell_type": "code",
   "execution_count": 3,
   "metadata": {},
   "outputs": [
    {
     "name": "stdout",
     "output_type": "stream",
     "text": [
      "(60000, 28, 28)\n",
      "(10000, 28, 28)\n",
      "(60000, 784)\n"
     ]
    },
    {
     "data": {
      "image/png": "[encoded data removed]",
      "text/plain": [
       "<Figure size 432x288 with 1 Axes>"
      ]
     },
     "metadata": {
      "needs_background": "light"
     },
     "output_type": "display_data"
    }
   ],
   "source": [
    "# load the data again (to be safe)\n",
    "(X_train, y_train), (X_test, y_test) = mnist.load_data()\n",
    "\n",
    "\"\"\"\n",
    "    Adding noise to image\n",
    "\"\"\"\n",
    "import random \n",
    "\n",
    "print(X_train.shape)\n",
    "print(X_test.shape)\n",
    "\n",
    "# 10%, 20%, 40%\n",
    "img_size = 28*28\n",
    "\n",
    "X_train_10 = np.zeros((60000, 28*28))\n",
    "X_test_10 = np.zeros((10000, 28*28))\n",
    "X_train_20 = np.zeros((60000, 28*28))\n",
    "X_test_20 = np.zeros((10000, 28*28))\n",
    "X_train_40 = np.zeros((60000, 28*28))\n",
    "X_test_40 = np.zeros((10000, 28*28))\n",
    "\n",
    "for i in range(len(X_train)): \n",
    "    ran_seq = random.sample([n for n in range(img_size)], np.int(img_size* 0.1)) \n",
    "    ran_seq2 = random.sample([n for n in range(img_size)], np.int(img_size* 0.2)) \n",
    "    ran_seq3 = random.sample([n for n in range(img_size)], np.int(img_size* 0.4)) \n",
    "    X_train_10[i] = X_train[i].reshape(-1, img_size) \n",
    "    X_train_20[i] = np.copy(X_train_10[i])\n",
    "    X_train_40[i] = np.copy(X_train_10[i])\n",
    "    X_train_10[i, ran_seq] = 255\n",
    "    X_train_20[i, ran_seq2] = 255\n",
    "    X_train_40[i, ran_seq3] = 255\n",
    "\n",
    "for i in range(len(X_test)):\n",
    "    ran_seq = random.sample([n for n in range(img_size)], np.int(img_size* 0.1)) \n",
    "    ran_seq2 = random.sample([n for n in range(img_size)], np.int(img_size* 0.2)) \n",
    "    ran_seq3 = random.sample([n for n in range(img_size)], np.int(img_size* 0.4)) \n",
    "    X_test_10[i] = X_test[i].reshape(-1, img_size) \n",
    "    X_test_20[i] = np.copy(X_test_10[i])\n",
    "    X_test_40[i] = np.copy(X_test_10[i])\n",
    "    X_test_10[i, ran_seq] = 255\n",
    "    X_test_20[i, ran_seq2] = 255\n",
    "    X_test_40[i, ran_seq3] = 255\n",
    "    \n",
    "print(X_train_10.shape)\n",
    "#print(x[1])\n",
    "\n",
    "img = X_train_10[1].reshape(28, 28)\n",
    "label = y_train[1]\n",
    "\n",
    "# show the image and its label\n",
    "plt.imshow(img, cmap='gray')\n",
    "plt.title(\"True label: %d\" % label)\n",
    "plt.show()\n",
    "\n"
   ]
  },
  {
   "cell_type": "code",
   "execution_count": 4,
   "metadata": {
    "colab": {},
    "colab_type": "code",
    "id": "bU9311av0Qtx",
    "scrolled": true
   },
   "outputs": [
    {
     "name": "stdout",
     "output_type": "stream",
     "text": [
      "(60000, 28, 28, 1)\n"
     ]
    },
    {
     "data": {
      "image/png": "[encoded data removed]",
      "text/plain": [
       "<Figure size 432x288 with 1 Axes>"
      ]
     },
     "metadata": {
      "needs_background": "light"
     },
     "output_type": "display_data"
    }
   ],
   "source": [
    "# reshape the data based on what backend is in use (TensorFlow or Thean)\n",
    "if keras_backend.image_data_format() == 'channels_first': #Thean\n",
    "    X_train = X_train.reshape(-1, 1, 28, 28)\n",
    "    X_test = X_test.reshape(-1, 1, 28, 28)\n",
    "else: # TensorFlow\n",
    "    X_train = X_train.reshape(-1, 28, 28, 1)\n",
    "    X_test = X_test.reshape(-1, 28, 28, 1)\n",
    "    X_train_10 = X_train_10.reshape(-1, 28, 28, 1)\n",
    "    X_train_20 = X_train_20.reshape(-1, 28, 28, 1)\n",
    "    X_train_40 = X_train_40.reshape(-1, 28, 28, 1)\n",
    "    X_test_10 = X_test_10.reshape(-1, 28, 28, 1)\n",
    "    X_test_20 = X_test_20.reshape(-1, 28, 28, 1)\n",
    "    X_test_40 = X_test_40.reshape(-1, 28, 28, 1)\n",
    "\n",
    "print(X_train.shape)\n",
    "\n",
    "img = X_train[1, :, :, 0]\n",
    "label = y_train[1]\n",
    "\n",
    "# show the image and its label\n",
    "plt.imshow(img, cmap='gray')\n",
    "plt.title(\"True label: %d\" % label)\n",
    "plt.show()\n",
    "\n",
    "\n",
    "# convert data type and normalize the values (8-bit = 256 = 0...255)\n",
    "X_train = X_train.astype('float32') / 255\n",
    "X_test = X_test.astype('float32') / 255\n",
    "X_train_10 = X_train_10.astype('float32') / 255\n",
    "X_train_20 = X_train_20.astype('float32') / 255\n",
    "X_train_40 = X_train_40.astype('float32') / 255\n",
    "X_test_10 = X_test_10.astype('float32') / 255\n",
    "X_test_20 = X_test_20.astype('float32') / 255\n",
    "X_test_40 = X_test_40.astype('float32') / 255\n",
    "\n",
    "# convert the class labels to 10-dimensional class arrays:\n",
    "# - before: y_train = (n_samples, )\n",
    "# - after: Y_train = (n_samples, 10)\n",
    "#\n",
    "Y_train = np_utils.to_categorical(y_train, 10)\n",
    "Y_test = np_utils.to_categorical(y_test, 10)"
   ]
  },
  {
   "cell_type": "code",
   "execution_count": 17,
   "metadata": {
    "colab": {},
    "colab_type": "code",
    "id": "5pRy3MhF0Qt0"
   },
   "outputs": [
    {
     "name": "stdout",
     "output_type": "stream",
     "text": [
      "_________________________________________________________________\n",
      "Layer (type)                 Output Shape              Param #   \n",
      "=================================================================\n",
      "conv2d_35 (Conv2D)           (None, 28, 28, 32)        320       \n",
      "_________________________________________________________________\n",
      "dropout_30 (Dropout)         (None, 28, 28, 32)        0         \n",
      "_________________________________________________________________\n",
      "conv2d_36 (Conv2D)           (None, 28, 28, 64)        18496     \n",
      "_________________________________________________________________\n",
      "dropout_31 (Dropout)         (None, 28, 28, 64)        0         \n",
      "_________________________________________________________________\n",
      "conv2d_37 (Conv2D)           (None, 28, 28, 64)        36928     \n",
      "_________________________________________________________________\n",
      "dropout_32 (Dropout)         (None, 28, 28, 64)        0         \n",
      "_________________________________________________________________\n",
      "conv2d_38 (Conv2D)           (None, 28, 28, 64)        36928     \n",
      "_________________________________________________________________\n",
      "dropout_33 (Dropout)         (None, 28, 28, 64)        0         \n",
      "_________________________________________________________________\n",
      "conv2d_39 (Conv2D)           (None, 28, 28, 64)        36928     \n",
      "_________________________________________________________________\n",
      "dropout_34 (Dropout)         (None, 28, 28, 64)        0         \n",
      "_________________________________________________________________\n",
      "conv2d_40 (Conv2D)           (None, 28, 28, 1)         577       \n",
      "=================================================================\n",
      "Total params: 130,177\n",
      "Trainable params: 130,177\n",
      "Non-trainable params: 0\n",
      "_________________________________________________________________\n",
      "None\n",
      "Train on 60000 samples, validate on 10000 samples\n",
      "Epoch 1/2\n",
      "60000/60000 [==============================] - 477s 8ms/step - loss: 0.0144 - acc: 0.8120 - val_loss: 0.0053 - val_acc: 0.8132\n",
      "Epoch 2/2\n",
      "60000/60000 [==============================] - 493s 8ms/step - loss: 0.0065 - acc: 0.8140 - val_loss: 0.0040 - val_acc: 0.8133\n"
     ]
    },
    {
     "data": {
      "text/plain": [
       "'\\nprint(\"== 10% ==\")\\nmodel.fit(X_train_10, Y_train,\\n          batch_size=128,\\n          epochs=2,\\n          verbose=1,\\n          validation_data=(X_test_10, Y_test))\\n\\nscore = model.evaluate(X_test_10, Y_test, verbose=0)\\n\\nprint(\\'Test loss:\\', score[0])\\nprint(\\'Test accuracy:\\', score[1])\\n\\n\\nprint(\"== 20% ==\")\\nmodel.fit(X_train_20, Y_train,\\n          batch_size=128,\\n          epochs=2,\\n          verbose=1,\\n          validation_data=(X_test_20, Y_test))\\n\\nscore = model.evaluate(X_test_20, Y_test, verbose=0)\\n\\nprint(\\'Test loss:\\', score[0])\\nprint(\\'Test accuracy:\\', score[1])\\n\\n\\nprint(\"== 40% ==\")\\nmodel.fit(X_train_40, Y_train,\\n          batch_size=128,\\n          epochs=2,\\n          verbose=1,\\n          validation_data=(X_test_40, Y_test))\\n\\nscore = model.evaluate(X_test_40, Y_test, verbose=0)\\n\\nprint(\\'Test loss:\\', score[0])\\nprint(\\'Test accuracy:\\', score[1])\\n'"
      ]
     },
     "execution_count": 17,
     "metadata": {},
     "output_type": "execute_result"
    }
   ],
   "source": [
    "# create the CNN model\n",
    "model = Sequential()\n",
    "\n",
    "model.add(Conv2D(32, kernel_size=(3, 3),\n",
    "                 activation='relu',\n",
    "                 input_shape=(28, 28, 1),\n",
    "                 padding=\"same\"\n",
    "                ))\n",
    "model.add(Dropout(0.25))\n",
    "model.add(Conv2D(64, (3, 3), activation='relu', padding=\"same\"))\n",
    "model.add(Dropout(0.25))\n",
    "model.add(Conv2D(64, (3, 3), activation='relu', padding=\"same\"))\n",
    "model.add(Dropout(0.25))\n",
    "model.add(Conv2D(64, (3, 3), activation='relu', padding=\"same\"))\n",
    "model.add(Dropout(0.25))\n",
    "model.add(Conv2D(64, (3, 3), activation='relu', padding=\"same\"))\n",
    "model.add(Dropout(0.25))\n",
    "model.add(Conv2D(1, (3, 3), activation='relu', padding=\"same\"))\n",
    "\n",
    "print(model.summary())\n",
    "\n",
    "model.compile(loss='mean_squared_error',\n",
    "              optimizer=Adam(),\n",
    "              metrics=['accuracy'])\n",
    "\n",
    "model.fit(X_train_40, X_train,\n",
    "          batch_size=128,\n",
    "          epochs=2,\n",
    "          verbose=1,\n",
    "          validation_data=(X_test_40, X_test))\n",
    "\n",
    "\"\"\"\n",
    "print(\"== 10% ==\")\n",
    "model.fit(X_train_10, Y_train,\n",
    "          batch_size=128,\n",
    "          epochs=2,\n",
    "          verbose=1,\n",
    "          validation_data=(X_test_10, Y_test))\n",
    "\n",
    "score = model.evaluate(X_test_10, Y_test, verbose=0)\n",
    "\n",
    "print('Test loss:', score[0])\n",
    "print('Test accuracy:', score[1])\n",
    "\n",
    "\n",
    "print(\"== 20% ==\")\n",
    "model.fit(X_train_20, Y_train,\n",
    "          batch_size=128,\n",
    "          epochs=2,\n",
    "          verbose=1,\n",
    "          validation_data=(X_test_20, Y_test))\n",
    "\n",
    "score = model.evaluate(X_test_20, Y_test, verbose=0)\n",
    "\n",
    "print('Test loss:', score[0])\n",
    "print('Test accuracy:', score[1])\n",
    "\n",
    "\n",
    "print(\"== 40% ==\")\n",
    "model.fit(X_train_40, Y_train,\n",
    "          batch_size=128,\n",
    "          epochs=2,\n",
    "          verbose=1,\n",
    "          validation_data=(X_test_40, Y_test))\n",
    "\n",
    "score = model.evaluate(X_test_40, Y_test, verbose=0)\n",
    "\n",
    "print('Test loss:', score[0])\n",
    "print('Test accuracy:', score[1])\n",
    "\"\"\""
   ]
  },
  {
   "cell_type": "code",
   "execution_count": 15,
   "metadata": {},
   "outputs": [
    {
     "name": "stdout",
     "output_type": "stream",
     "text": [
      "Train loss: 0.13066048222780227\n",
      "Train accuracy: 0.8087977045059204\n",
      "Test loss: 0.13251461226940156\n",
      "Test accuracy: 0.8072424739837647\n"
     ]
    },
    {
     "data": {
      "image/png": "[encoded data removed]",
      "text/plain": [
       "<Figure size 432x288 with 1 Axes>"
      ]
     },
     "metadata": {
      "needs_background": "light"
     },
     "output_type": "display_data"
    }
   ],
   "source": [
    "print(\"== Noise remove accuracy ==\")\n",
    "score = model.evaluate(X_train_40, X_train, verbose=0)\n",
    "print('Train loss:', score[0])\n",
    "print('Train accuracy:', score[1])\n",
    "score = model.evaluate(X_test_40, X_test, verbose=0)\n",
    "print('Test loss:', score[0])\n",
    "print('Test accuracy:', score[1])\n",
    "\n",
    "\n",
    "X_train_40_removeNoise = model.predict(X_train_40)\n",
    "X_test_40_removeNoise = model.predict(X_test_40)\n",
    "\n",
    "\n",
    "img = X_train_40_removeNoise[1, :, :, 0]\n",
    "label = y_train[1]\n",
    "\n",
    "# show the image and its label\n",
    "plt.imshow(img, cmap='gray')\n",
    "plt.title(\"True label: %d\" % label)\n",
    "plt.show()"
   ]
  },
  {
   "cell_type": "code",
   "execution_count": 14,
   "metadata": {},
   "outputs": [
    {
     "name": "stdout",
     "output_type": "stream",
     "text": [
      "== origin ==\n",
      "Train on 60000 samples, validate on 10000 samples\n",
      "Epoch 1/2\n",
      "60000/60000 [==============================] - 40s 675us/step - loss: 2.3017 - acc: 0.1115 - val_loss: 2.3011 - val_acc: 0.1135\n",
      "Epoch 2/2\n",
      "60000/60000 [==============================] - 42s 707us/step - loss: 2.3013 - acc: 0.1124 - val_loss: 2.3010 - val_acc: 0.1135\n",
      "Test loss: 2.30103547706604\n",
      "Test accuracy: 0.1135\n"
     ]
    }
   ],
   "source": [
    "# create the CNN model\n",
    "model2 = Sequential()\n",
    "\n",
    "model2.add(Conv2D(32, kernel_size=(3, 3),\n",
    "                 activation='relu',\n",
    "                 input_shape=(28, 28, 1)\n",
    "                ))\n",
    "model2.add(Conv2D(64, (3, 3), activation='relu'))\n",
    "model2.add(MaxPooling2D(pool_size=(2, 2)))\n",
    "model2.add(Dropout(0.25))\n",
    "model2.add(Flatten())\n",
    "model2.add(Dense(128, activation='relu'))\n",
    "model2.add(Dropout(0.5))\n",
    "model2.add(Dense(10, activation='softmax'))\n",
    "\n",
    "model2.compile(loss='categorical_crossentropy',\n",
    "              optimizer=Adadelta(),\n",
    "              metrics=['accuracy'])\n",
    "\n",
    "\n",
    "print(\"== origin ==\")\n",
    "model2.fit(X_train_40_removeNoise, Y_train,\n",
    "          batch_size=128,\n",
    "          epochs=2,\n",
    "          verbose=1,\n",
    "          validation_data=(X_test_40_removeNoise, Y_test))\n",
    "\n",
    "score = model2.evaluate(X_test_40_removeNoise, Y_test, verbose=0)\n",
    "\n",
    "print('Test loss:', score[0])\n",
    "print('Test accuracy:', score[1])"
   ]
  },
  {
   "cell_type": "code",
   "execution_count": null,
   "metadata": {},
   "outputs": [],
   "source": []
  }
 ],
 "metadata": {
  "colab": {
   "collapsed_sections": [],
   "name": "1_mnist.ipynb",
   "provenance": [],
   "version": "0.3.2"
  },
  "kernelspec": {
   "display_name": "Python 3",
   "language": "python",
   "name": "python3"
  },
  "language_info": {
   "codemirror_mode": {
    "name": "ipython",
    "version": 3
   },
   "file_extension": ".py",
   "mimetype": "text/x-python",
   "name": "python",
   "nbconvert_exporter": "python",
   "pygments_lexer": "ipython3",
   "version": "3.7.2"
  }
 },
 "nbformat": 4,
 "nbformat_minor": 1
}

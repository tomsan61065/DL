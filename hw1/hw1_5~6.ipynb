{
 "cells": [
  {
   "cell_type": "code",
   "execution_count": 22,
   "metadata": {},
   "outputs": [
    {
     "name": "stdout",
     "output_type": "stream",
     "text": [
      "[1 1 1 1 1 1 1 1 1 1 1 1 1 1 1 1 1 1 1 1 1 1 1 1 1 1 1 1 1 1 1 1 1 1 1 0 0\n",
      " 0 0 0 0 0 0 0 0 0 0 0 0 0 0 0 0 0 0 0 0 0 0 0 0 0 0 0 0 0 0 0 0 0]\n"
     ]
    }
   ],
   "source": [
    "import matplotlib\n",
    "import matplotlib.pyplot as plt\n",
    "%matplotlib inline\n",
    "import numpy as np\n",
    "import pandas as pd #for csv\n",
    "import scipy.io as sio\n",
    "\n",
    "from sklearn.linear_model import LogisticRegression\n",
    "\n",
    "# load the information in the file in a format that python can interpret\n",
    "matTrainData = sio.loadmat(\"train.mat\")\n",
    "matTestData = sio.loadmat(\"test.mat\")\n",
    "#print(matData)\n",
    "#matData.items() # 得知有哪些 items\n",
    "\n",
    "#如何 element wise concate\n",
    "#https://docs.scipy.org/doc/numpy/reference/generated/numpy.concatenate.html\n",
    "trainDataX = np.concatenate((np.array(matTrainData[\"x1\"]), np.array(matTrainData[\"x2\"])), axis=1 )\n",
    "#print(trainDataX)\n",
    "trainDataY = np.concatenate(np.array(matTrainData[\"y\"]))\n",
    "print(trainDataY)\n",
    "\n",
    "testX = np.concatenate((np.array(matTestData[\"x1\"]), np.array(matTestData[\"x2\"])), axis=1 )\n",
    "testY = np.concatenate(np.array(matTestData[\"y\"]))"
   ]
  },
  {
   "cell_type": "code",
   "execution_count": 29,
   "metadata": {},
   "outputs": [
    {
     "name": "stdout",
     "output_type": "stream",
     "text": [
      "percentage of misclassified test samples: 3 \n"
     ]
    }
   ],
   "source": [
    "### Q1-5 ###\n",
    "logreg = LogisticRegression(C=1e5, solver='lbfgs', multi_class='multinomial')\n",
    "\n",
    "logreg.fit(trainDataX, trainDataY)\n",
    "predictY = logreg.predict(testX)\n",
    "#print(predictY)\n",
    "#print(testY)\n",
    "count = 0\n",
    "for i in range(len(predictY)):\n",
    "    if predictY[i] != testY[i]:\n",
    "        count +=1\n",
    "print(\"percentage of misclassified test samples: %d \" % (count/len(predictY)*100))"
   ]
  },
  {
   "cell_type": "code",
   "execution_count": null,
   "metadata": {},
   "outputs": [],
   "source": [
    "### Q1-6 ###\n",
    "\n",
    "#initial values\n",
    "θ0 = 1\n",
    "θ1 = 2\n",
    "θ2 = 3\n",
    "lr = 0.0001\n",
    "iteration = 100000\n",
    "\n",
    "θ0_history = [θ0]\n",
    "θ1_history = [θ1]\n",
    "θ2_history = [θ2]    \n",
    "\n",
    "print(len(dataX))\n",
    "\n",
    "for i in range(iteration):\n",
    "    θ0Grad = 0.0\n",
    "    θ1Grad = 0.0\n",
    "    θ2Grad = 0.0\n",
    "    \n",
    "    #計算 gradient\n",
    "    for n in range(len(dataX)):\n",
    "        θ0Grad += (-1)*(dataY[n] - θ0 - dataX[n]*θ1 - dataX[n]*dataX[n]*θ2) / abs(dataY[n] - θ0 - dataX[n]*θ1 - dataX[n]*dataX[n]*θ2)   \n",
    "        θ1Grad += (-dataX[n])*(dataY[n] - θ0 - dataX[n]*θ1 - dataX[n]*dataX[n]*θ2) / abs(dataY[n] - θ0 - dataX[n]*θ1 - dataX[n]*dataX[n]*θ2)\n",
    "        θ2Grad += (-dataX[n]*dataX[n])*(dataY[n] - θ0 - dataX[n]*θ1 - dataX[n]*dataX[n]*θ2) / abs(dataY[n] - θ0 - dataX[n]*θ1 - dataX[n]*dataX[n]*θ2)\n",
    "    \n",
    "    #更新 gradient\n",
    "    θ0 = θ0 - lr * θ0Grad\n",
    "    θ1 = θ1 - lr * θ1Grad\n",
    "    θ2 = θ2 - lr * θ2Grad\n",
    "    \n",
    "    # Store parameters for plotting\n",
    "    θ0_history.append(θ0)\n",
    "    θ1_history.append(θ1)\n",
    "    θ2_history.append(θ2)\n",
    "    \n",
    "#plt.plot([-188.4], [2.67], 'x', ms=12, markeredgewidth=3, color='orange')\n",
    "plt.plot(θ1_history, θ2_history, 'o-', ms=3, lw=1.5, color='black')\n",
    "plt.xlim(-5,10)\n",
    "plt.ylim(-5,10)\n",
    "plt.xlabel(r'$θ1$', fontsize=16)\n",
    "plt.ylabel(r'$θ2$', fontsize=16)\n",
    "plt.show()\n",
    "\n",
    "print([θ0, θ1, θ2])"
   ]
  }
 ],
 "metadata": {
  "kernelspec": {
   "display_name": "Python 3",
   "language": "python",
   "name": "python3"
  },
  "language_info": {
   "codemirror_mode": {
    "name": "ipython",
    "version": 3
   },
   "file_extension": ".py",
   "mimetype": "text/x-python",
   "name": "python",
   "nbconvert_exporter": "python",
   "pygments_lexer": "ipython3",
   "version": "3.7.2"
  }
 },
 "nbformat": 4,
 "nbformat_minor": 2
}

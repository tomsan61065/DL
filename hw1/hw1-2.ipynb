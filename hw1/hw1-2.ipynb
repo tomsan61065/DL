{
 "cells": [
  {
   "cell_type": "code",
   "execution_count": 6,
   "metadata": {},
   "outputs": [
    {
     "data": {
      "text/plain": [
       "dict_items([('__header__', b'MATLAB 5.0 MAT-file, Platform: GLNX86, Created on: Wed Oct 18 14:33:03 2006'), ('__version__', '1.0'), ('__globals__', []), ('x', array([[0.   ],\n",
       "       [0.001],\n",
       "       [0.002],\n",
       "       ...,\n",
       "       [0.998],\n",
       "       [0.999],\n",
       "       [1.   ]])), ('y', array([[1.11889485],\n",
       "       [1.24080293],\n",
       "       [1.2305603 ],\n",
       "       ...,\n",
       "       [7.44260211],\n",
       "       [7.36491736],\n",
       "       [7.34314766]]))])"
      ]
     },
     "execution_count": 6,
     "metadata": {},
     "output_type": "execute_result"
    }
   ],
   "source": [
    "# python 讀取 .mat file\n",
    "#https://www.kaggle.com/crawford/reading-mat-files-into-python\n",
    "import scipy.io as sio\n",
    "\n",
    "# load the information in the file in a format that python can interpret\n",
    "matData = sio.loadmat(\"data.mat\")\n",
    "\n",
    "#print(matData)\n",
    "matData.items() # 得知有哪些 items"
   ]
  },
  {
   "cell_type": "code",
   "execution_count": 7,
   "metadata": {},
   "outputs": [
    {
     "data": {
      "text/plain": [
       "array([[1.11889485],\n",
       "       [1.24080293],\n",
       "       [1.2305603 ],\n",
       "       ...,\n",
       "       [7.44260211],\n",
       "       [7.36491736],\n",
       "       [7.34314766]])"
      ]
     },
     "execution_count": 7,
     "metadata": {},
     "output_type": "execute_result"
    }
   ],
   "source": [
    "matData[\"x\"]\n",
    "matData[\"y\"]"
   ]
  },
  {
   "cell_type": "code",
   "execution_count": null,
   "metadata": {},
   "outputs": [],
   "source": []
  }
 ],
 "metadata": {
  "kernelspec": {
   "display_name": "Python 3",
   "language": "python",
   "name": "python3"
  },
  "language_info": {
   "codemirror_mode": {
    "name": "ipython",
    "version": 3
   },
   "file_extension": ".py",
   "mimetype": "text/x-python",
   "name": "python",
   "nbconvert_exporter": "python",
   "pygments_lexer": "ipython3",
   "version": "3.7.2"
  }
 },
 "nbformat": 4,
 "nbformat_minor": 2
}

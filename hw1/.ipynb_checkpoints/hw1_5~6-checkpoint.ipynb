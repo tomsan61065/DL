{
 "cells": [
  {
   "cell_type": "code",
   "execution_count": 22,
   "metadata": {},
   "outputs": [
    {
     "name": "stdout",
     "output_type": "stream",
     "text": [
      "[1 1 1 1 1 1 1 1 1 1 1 1 1 1 1 1 1 1 1 1 1 1 1 1 1 1 1 1 1 1 1 1 1 1 1 0 0\n",
      " 0 0 0 0 0 0 0 0 0 0 0 0 0 0 0 0 0 0 0 0 0 0 0 0 0 0 0 0 0 0 0 0 0]\n"
     ]
    }
   ],
   "source": [
    "import matplotlib\n",
    "import matplotlib.pyplot as plt\n",
    "%matplotlib inline\n",
    "import numpy as np\n",
    "import pandas as pd #for csv\n",
    "import scipy.io as sio\n",
    "\n",
    "from sklearn.linear_model import LogisticRegression\n",
    "\n",
    "# load the information in the file in a format that python can interpret\n",
    "matTrainData = sio.loadmat(\"train.mat\")\n",
    "matTestData = sio.loadmat(\"test.mat\")\n",
    "#print(matData)\n",
    "#matData.items() # 得知有哪些 items\n",
    "\n",
    "#如何 element wise concate\n",
    "#https://docs.scipy.org/doc/numpy/reference/generated/numpy.concatenate.html\n",
    "trainDataX = np.concatenate((np.array(matTrainData[\"x1\"]), np.array(matTrainData[\"x2\"])), axis=1 )\n",
    "#print(trainDataX)\n",
    "trainDataY = np.concatenate(np.array(matTrainData[\"y\"]))\n",
    "print(trainDataY)\n",
    "\n",
    "testX = np.concatenate((np.array(matTestData[\"x1\"]), np.array(matTestData[\"x2\"])), axis=1 )\n",
    "testY = np.concatenate(np.array(matTestData[\"y\"]))"
   ]
  },
  {
   "cell_type": "code",
   "execution_count": 29,
   "metadata": {},
   "outputs": [
    {
     "name": "stdout",
     "output_type": "stream",
     "text": [
      "percentage of misclassified test samples: 3 \n"
     ]
    }
   ],
   "source": [
    "### Q1-5 ###\n",
    "logreg = LogisticRegression(C=1e5, solver='lbfgs', multi_class='multinomial')\n",
    "\n",
    "logreg.fit(trainDataX, trainDataY)\n",
    "predictY = logreg.predict(testX)\n",
    "#print(predictY)\n",
    "#print(testY)\n",
    "count = 0\n",
    "for i in range(len(predictY)):\n",
    "    if predictY[i] != testY[i]:\n",
    "        count +=1\n",
    "print(\"percentage of misclassified test samples: %d \" % (count/len(predictY)*100))"
   ]
  },
  {
   "cell_type": "code",
   "execution_count": null,
   "metadata": {},
   "outputs": [],
   "source": [
    "### Q1-6 ###\n",
    "\n"
   ]
  }
 ],
 "metadata": {
  "kernelspec": {
   "display_name": "Python 3",
   "language": "python",
   "name": "python3"
  },
  "language_info": {
   "codemirror_mode": {
    "name": "ipython",
    "version": 3
   },
   "file_extension": ".py",
   "mimetype": "text/x-python",
   "name": "python",
   "nbconvert_exporter": "python",
   "pygments_lexer": "ipython3",
   "version": "3.7.2"
  }
 },
 "nbformat": 4,
 "nbformat_minor": 2
}

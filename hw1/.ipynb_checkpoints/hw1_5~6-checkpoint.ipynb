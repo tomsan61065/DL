{
 "cells": [
  {
   "cell_type": "code",
   "execution_count": 28,
   "metadata": {},
   "outputs": [
    {
     "name": "stdout",
     "output_type": "stream",
     "text": [
      "[1 1 1 1 1 1 1 1 1 1 1 1 1 1 1 1 1 1 1 1 1 1 1 1 1 1 1 1 1 1 1 1 1 1 1 0 0\n",
      " 0 0 0 0 0 0 0 0 0 0 0 0 0 0 0 0 0 0 0 0 0 0 0 0 0 0 0 0 0 0 0 0 0]\n"
     ]
    }
   ],
   "source": [
    "import matplotlib\n",
    "import matplotlib.pyplot as plt\n",
    "%matplotlib inline\n",
    "import numpy as np\n",
    "import pandas as pd #for csv\n",
    "import scipy.io as sio\n",
    "import math\n",
    "\n",
    "from sklearn.linear_model import LogisticRegression\n",
    "\n",
    "# load the information in the file in a format that python can interpret\n",
    "matTrainData = sio.loadmat(\"train.mat\")\n",
    "matTestData = sio.loadmat(\"test.mat\")\n",
    "#print(matData)\n",
    "#matData.items() # 得知有哪些 items\n",
    "\n",
    "#如何 element wise concate\n",
    "#https://docs.scipy.org/doc/numpy/reference/generated/numpy.concatenate.html\n",
    "trainDataX = np.concatenate((np.array(matTrainData[\"x1\"]), np.array(matTrainData[\"x2\"])), axis=1 )\n",
    "#print(trainDataX)\n",
    "trainDataY = np.concatenate(np.array(matTrainData[\"y\"]))\n",
    "print(trainDataY)\n",
    "\n",
    "testX = np.concatenate((np.array(matTestData[\"x1\"]), np.array(matTestData[\"x2\"])), axis=1 )\n",
    "testY = np.concatenate(np.array(matTestData[\"y\"]))"
   ]
  },
  {
   "cell_type": "code",
   "execution_count": 29,
   "metadata": {},
   "outputs": [
    {
     "name": "stdout",
     "output_type": "stream",
     "text": [
      "[37.85898317]\n",
      "[[-18.34633961  19.23702253]]\n",
      "percentage of misclassified test samples: 3 %\n"
     ]
    }
   ],
   "source": [
    "### Q1-5 ###\n",
    "logreg = LogisticRegression(C=1e5, solver='lbfgs', multi_class='multinomial')\n",
    "\n",
    "logreg.fit(trainDataX, trainDataY)\n",
    "predictY = logreg.predict(testX)\n",
    "#print(predictY)\n",
    "#print(testY)\n",
    "print(logreg.intercept_)\n",
    "print(logreg.coef_)\n",
    "count = 0\n",
    "for i in range(len(predictY)):\n",
    "    if predictY[i] != testY[i]:\n",
    "        count +=1\n",
    "print(\"percentage of misclassified test samples: %d %%\" % (count/len(predictY)*100))"
   ]
  },
  {
   "cell_type": "code",
   "execution_count": 39,
   "metadata": {
    "scrolled": false
   },
   "outputs": [
    {
     "name": "stdout",
     "output_type": "stream",
     "text": [
      "70\n",
      "1\n",
      "37 -18 19\n",
      "0.0 0.0 0.0\n",
      "36.28246321525022 -18.99579479747132 20.941343434103636\n",
      "5.976300991924395 169.56833331450778 50.78979696863265\n",
      "36.258027805461126 -19.28687946417298 21.44832882719585\n",
      "5.976308619460345 169.5970946579841 50.81594041360797\n",
      "36.25250670968164 -19.55196957497904 21.904731817055367\n",
      "5.9763092391597095 169.62094777851837 50.83713229562318\n",
      "36.260808314153905 -19.795915691119117 22.320489104228958\n",
      "5.976310203066052 169.64114757515253 50.85472154914405\n",
      "36.279453341994454 -20.022265439754754 22.702789428448018\n",
      "5.976314438374652 169.65853868356714 50.869596810474405\n",
      "36.30597862722393 -20.23370149099042 23.057014951802273\n",
      "5.976322895390596 169.67371397421925 50.882369868140366\n",
      "36.33859009063666 -20.432307698789213 23.38730827730212\n",
      "5.976335635653972 169.68710389795447 50.89347714051709\n",
      "36.37595021639959 -20.619738973702773 23.69693142819868\n",
      "5.976352336477485 169.69902979021657 50.90323918455642\n",
      "36.417042366481 -20.79733415835992 23.98850257616832\n",
      "5.976372530307241 169.70973717975536 50.91189729703905\n"
     ]
    },
    {
     "ename": "KeyboardInterrupt",
     "evalue": "",
     "output_type": "error",
     "traceback": [
      "\u001b[0;31m---------------------------------------------------------------------------\u001b[0m",
      "\u001b[0;31mKeyboardInterrupt\u001b[0m                         Traceback (most recent call last)",
      "\u001b[0;32m<ipython-input-39-88b1f4e1bee9>\u001b[0m in \u001b[0;36m<module>\u001b[0;34m\u001b[0m\n\u001b[1;32m     37\u001b[0m \u001b[0;31m#        print(1/(1 + np.exp(-θ0 -θ1*x1 - θ2*x2)))\u001b[0m\u001b[0;34m\u001b[0m\u001b[0;34m\u001b[0m\u001b[0;34m\u001b[0m\u001b[0m\n\u001b[1;32m     38\u001b[0m         \u001b[0mθ0Grad\u001b[0m \u001b[0;34m+=\u001b[0m \u001b[0;34m-\u001b[0m\u001b[0;34m(\u001b[0m\u001b[0mtrainDataY\u001b[0m\u001b[0;34m[\u001b[0m\u001b[0mn\u001b[0m\u001b[0;34m]\u001b[0m \u001b[0;34m-\u001b[0m \u001b[0;36m1\u001b[0m\u001b[0;34m/\u001b[0m\u001b[0;34m(\u001b[0m\u001b[0;36m1\u001b[0m \u001b[0;34m+\u001b[0m \u001b[0mnp\u001b[0m\u001b[0;34m.\u001b[0m\u001b[0mexp\u001b[0m\u001b[0;34m(\u001b[0m\u001b[0;34m-\u001b[0m\u001b[0mθ0\u001b[0m \u001b[0;34m-\u001b[0m\u001b[0mθ1\u001b[0m\u001b[0;34m*\u001b[0m\u001b[0mx1\u001b[0m \u001b[0;34m-\u001b[0m \u001b[0mθ2\u001b[0m\u001b[0;34m*\u001b[0m\u001b[0mx2\u001b[0m\u001b[0;34m)\u001b[0m\u001b[0;34m)\u001b[0m\u001b[0;34m)\u001b[0m\u001b[0;34m*\u001b[0m\u001b[0;36m1\u001b[0m\u001b[0;34m\u001b[0m\u001b[0;34m\u001b[0m\u001b[0m\n\u001b[0;32m---> 39\u001b[0;31m         \u001b[0mθ1Grad\u001b[0m \u001b[0;34m+=\u001b[0m \u001b[0;34m-\u001b[0m\u001b[0;34m(\u001b[0m\u001b[0mtrainDataY\u001b[0m\u001b[0;34m[\u001b[0m\u001b[0mn\u001b[0m\u001b[0;34m]\u001b[0m \u001b[0;34m-\u001b[0m \u001b[0;36m1\u001b[0m\u001b[0;34m/\u001b[0m\u001b[0;34m(\u001b[0m\u001b[0;36m1\u001b[0m \u001b[0;34m+\u001b[0m \u001b[0mnp\u001b[0m\u001b[0;34m.\u001b[0m\u001b[0mexp\u001b[0m\u001b[0;34m(\u001b[0m\u001b[0;34m-\u001b[0m\u001b[0mθ0\u001b[0m \u001b[0;34m-\u001b[0m\u001b[0mθ1\u001b[0m\u001b[0;34m*\u001b[0m\u001b[0mx1\u001b[0m \u001b[0;34m-\u001b[0m \u001b[0mθ2\u001b[0m\u001b[0;34m*\u001b[0m\u001b[0mx2\u001b[0m\u001b[0;34m)\u001b[0m\u001b[0;34m)\u001b[0m\u001b[0;34m)\u001b[0m\u001b[0;34m*\u001b[0m\u001b[0mx1\u001b[0m\u001b[0;34m\u001b[0m\u001b[0;34m\u001b[0m\u001b[0m\n\u001b[0m\u001b[1;32m     40\u001b[0m         \u001b[0mθ2Grad\u001b[0m \u001b[0;34m+=\u001b[0m \u001b[0;34m-\u001b[0m\u001b[0;34m(\u001b[0m\u001b[0mtrainDataY\u001b[0m\u001b[0;34m[\u001b[0m\u001b[0mn\u001b[0m\u001b[0;34m]\u001b[0m \u001b[0;34m-\u001b[0m \u001b[0;36m1\u001b[0m\u001b[0;34m/\u001b[0m\u001b[0;34m(\u001b[0m\u001b[0;36m1\u001b[0m \u001b[0;34m+\u001b[0m \u001b[0mnp\u001b[0m\u001b[0;34m.\u001b[0m\u001b[0mexp\u001b[0m\u001b[0;34m(\u001b[0m\u001b[0;34m-\u001b[0m\u001b[0mθ0\u001b[0m \u001b[0;34m-\u001b[0m\u001b[0mθ1\u001b[0m\u001b[0;34m*\u001b[0m\u001b[0mx1\u001b[0m \u001b[0;34m-\u001b[0m \u001b[0mθ2\u001b[0m\u001b[0;34m*\u001b[0m\u001b[0mx2\u001b[0m\u001b[0;34m)\u001b[0m\u001b[0;34m)\u001b[0m\u001b[0;34m)\u001b[0m\u001b[0;34m*\u001b[0m\u001b[0mx2\u001b[0m\u001b[0;34m\u001b[0m\u001b[0;34m\u001b[0m\u001b[0m\n\u001b[1;32m     41\u001b[0m \u001b[0;34m\u001b[0m\u001b[0m\n",
      "\u001b[0;31mKeyboardInterrupt\u001b[0m: "
     ]
    }
   ],
   "source": [
    "### Q1-6 ###\n",
    "#P(C|x) -> P(C^x)/P(x) = h(θ) = 1/(1 + e**(-θ0 -θ1*x1 - θ2*x2) )\n",
    "\n",
    "#initial values\n",
    "θ0 = 37\n",
    "θ1 = -18\n",
    "θ2 = 19\n",
    "lr = 1\n",
    "iteration = 100000\n",
    "\n",
    "θ0Lr = 0.0\n",
    "θ1Lr = 0.0\n",
    "θ2Lr = 0.0\n",
    "\n",
    "θ0_history = [θ0]\n",
    "θ1_history = [θ1]\n",
    "θ2_history = [θ2]    \n",
    "\n",
    "print(len(trainDataX))\n",
    "\n",
    "#print(trainDataX)\n",
    "\n",
    "for i in range(iteration):\n",
    "    θ0Grad = 0.0\n",
    "    θ1Grad = 0.0\n",
    "    θ2Grad = 0.0\n",
    "    \n",
    "    if i % 500 == 0:\n",
    "        print(θ0, θ1, θ2)\n",
    "        print(θ0Lr, θ1Lr, θ2Lr)\n",
    "    \n",
    "    #計算 gradient\n",
    "    for n in range(len( trainDataX)):\n",
    "        x1 = trainDataX[n][0]\n",
    "        x2 = trainDataX[n][1]\n",
    "#        print(1/(1 + np.exp(-θ0 -θ1*x1 - θ2*x2)))\n",
    "        θ0Grad += -(trainDataY[n] - 1/(1 + np.exp(-θ0 -θ1*x1 - θ2*x2)))*1\n",
    "        θ1Grad += -(trainDataY[n] - 1/(1 + np.exp(-θ0 -θ1*x1 - θ2*x2)))*x1\n",
    "        θ2Grad += -(trainDataY[n] - 1/(1 + np.exp(-θ0 -θ1*x1 - θ2*x2)))*x2\n",
    "    \n",
    "    θ0Lr += θ0Grad ** 2\n",
    "    θ1Lr += θ1Grad ** 2\n",
    "    θ2Lr += θ2Grad ** 2\n",
    "    \n",
    "    #更新 gradient\n",
    "    θ0 = θ0 - lr * θ0Grad/np.sqrt(θ0Lr)\n",
    "    θ1 = θ1 - lr * θ1Grad/np.sqrt(θ1Lr)\n",
    "    θ2 = θ2 - lr * θ2Grad/np.sqrt(θ2Lr)\n",
    "    \n",
    "    # Store parameters for plotting\n",
    "    θ0_history.append(θ0)\n",
    "    θ1_history.append(θ1)\n",
    "    θ2_history.append(θ2)\n",
    "    \n"
   ]
  },
  {
   "cell_type": "code",
   "execution_count": 38,
   "metadata": {
    "scrolled": true
   },
   "outputs": [
    {
     "data": {
      "image/png": "[encoded data removed]",
      "text/plain": [
       "<Figure size 432x288 with 1 Axes>"
      ]
     },
     "metadata": {
      "needs_background": "light"
     },
     "output_type": "display_data"
    },
    {
     "name": "stdout",
     "output_type": "stream",
     "text": [
      "[42.86824496816476, -29.74594893103853, 37.286896173084706]\n"
     ]
    }
   ],
   "source": [
    "#plt.plot([-188.4], [2.67], 'x', ms=12, markeredgewidth=3, color='orange')\n",
    "plt.plot(θ1_history, θ2_history, 'o-', ms=3, lw=1.5, color='black')\n",
    "plt.xlim(-25,-15)\n",
    "plt.ylim(15,25)\n",
    "plt.xlabel(r'$θ1$', fontsize=16)\n",
    "plt.ylabel(r'$θ2$', fontsize=16)\n",
    "plt.show()\n",
    "\n",
    "print([θ0, θ1, θ2])"
   ]
  },
  {
   "cell_type": "code",
   "execution_count": null,
   "metadata": {},
   "outputs": [],
   "source": []
  }
 ],
 "metadata": {
  "kernelspec": {
   "display_name": "Python 3",
   "language": "python",
   "name": "python3"
  },
  "language_info": {
   "codemirror_mode": {
    "name": "ipython",
    "version": 3
   },
   "file_extension": ".py",
   "mimetype": "text/x-python",
   "name": "python",
   "nbconvert_exporter": "python",
   "pygments_lexer": "ipython3",
   "version": "3.7.2"
  }
 },
 "nbformat": 4,
 "nbformat_minor": 2
}

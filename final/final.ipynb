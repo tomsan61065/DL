{
 "cells": [
  {
   "cell_type": "code",
   "execution_count": 1,
   "metadata": {
    "colab": {
     "base_uri": "https://localhost:8080/",
     "height": 34
    },
    "colab_type": "code",
    "executionInfo": {
     "elapsed": 2629,
     "status": "ok",
     "timestamp": 1556855652236,
     "user": {
      "displayName": "Jerry Peng",
      "photoUrl": "https://lh5.googleusercontent.com/-X5dmdw86Bpo/AAAAAAAAAAI/AAAAAAAAAEc/gx43BV5vrGs/s64/photo.jpg",
      "userId": "10707771670913494566"
     },
     "user_tz": -480
    },
    "id": "eWoHtt5X0Qs_",
    "outputId": "f46bd4e5-2cce-4cab-ce0e-46b932d9b969",
    "scrolled": false
   },
   "outputs": [
    {
     "name": "stderr",
     "output_type": "stream",
     "text": [
      "Using TensorFlow backend.\n"
     ]
    },
    {
     "name": "stdout",
     "output_type": "stream",
     "text": [
      "[name: \"/device:CPU:0\"\n",
      "device_type: \"CPU\"\n",
      "memory_limit: 268435456\n",
      "locality {\n",
      "}\n",
      "incarnation: 2518459886900642788\n",
      ", name: \"/device:GPU:0\"\n",
      "device_type: \"GPU\"\n",
      "memory_limit: 6700198133\n",
      "locality {\n",
      "  bus_id: 1\n",
      "  links {\n",
      "  }\n",
      "}\n",
      "incarnation: 5696370153078850845\n",
      "physical_device_desc: \"device: 0, name: GeForce GTX 1070, pci bus id: 0000:01:00.0, compute capability: 6.1\"\n",
      "]\n"
     ]
    },
    {
     "data": {
      "text/plain": [
       "['/job:localhost/replica:0/task:0/device:GPU:0']"
      ]
     },
     "execution_count": 1,
     "metadata": {},
     "output_type": "execute_result"
    }
   ],
   "source": [
    "# load required packages\n",
    "import numpy as np\n",
    "import pandas as pd\n",
    "import matplotlib.pyplot as plt\n",
    "import cv2\n",
    "%matplotlib inline\n",
    "\n",
    "# load required functionality from keras\n",
    "from keras.datasets import mnist\n",
    "from keras.models import Sequential\n",
    "from keras.layers import Dense, Dropout, Flatten\n",
    "from keras.layers import Conv2D, MaxPooling2D\n",
    "from keras.layers.normalization import BatchNormalization\n",
    "from keras.optimizers import RMSprop, Adadelta, Adam\n",
    "from keras.utils import np_utils\n",
    "from keras import backend as keras_backend\n",
    "from tensorflow.python.client import device_lib\n",
    "print(device_lib.list_local_devices())\n",
    "keras_backend.tensorflow_backend._get_available_gpus()"
   ]
  },
  {
   "cell_type": "code",
   "execution_count": 6,
   "metadata": {},
   "outputs": [
    {
     "name": "stdout",
     "output_type": "stream",
     "text": [
      "            track_id           image_path       lp  train\n",
      "0          s01_l01_1      s01_l01/1_1.png  7C24698      1\n",
      "1          s01_l01_2      s01_l01/2_1.png  7C24698      1\n",
      "2          s01_l01_2      s01_l01/2_2.png  7C24698      1\n",
      "3          s01_l01_2      s01_l01/2_3.png  7C24698      1\n",
      "4          s01_l01_2      s01_l01/2_4.png  7C24698      1\n",
      "5          s01_l01_2      s01_l01/2_5.png  7C24698      1\n",
      "6          s01_l01_2      s01_l01/2_6.png  7C24698      1\n",
      "7          s01_l01_2      s01_l01/2_7.png  7C24698      1\n",
      "8          s01_l01_2      s01_l01/2_8.png  7C24698      1\n",
      "9          s01_l01_2      s01_l01/2_9.png  7C24698      1\n",
      "10         s01_l01_2     s01_l01/2_10.png  7C24698      1\n",
      "11         s01_l01_2     s01_l01/2_11.png  7C24698      1\n",
      "12         s01_l01_2     s01_l01/2_12.png  7C24698      1\n",
      "13         s01_l01_2     s01_l01/2_13.png  7C24698      1\n",
      "14         s01_l01_2     s01_l01/2_14.png  7C24698      1\n",
      "15         s01_l01_2     s01_l01/2_15.png  7C24698      1\n",
      "16         s01_l01_2     s01_l01/2_16.png  7C24698      1\n",
      "17         s01_l01_2     s01_l01/2_17.png  7C24698      1\n",
      "18         s01_l01_2     s01_l01/2_18.png  7C24698      1\n",
      "19         s01_l01_2     s01_l01/2_19.png  7C24698      1\n",
      "20         s01_l01_2     s01_l01/2_20.png  7C24698      1\n",
      "21         s01_l01_2     s01_l01/2_21.png  7C24698      1\n",
      "22         s01_l01_2     s01_l01/2_22.png  7C24698      1\n",
      "23         s01_l01_2     s01_l01/2_23.png  7C24698      1\n",
      "24         s01_l01_2     s01_l01/2_24.png  7C24698      1\n",
      "25         s01_l01_2     s01_l01/2_25.png  7C24698      1\n",
      "26         s01_l01_2     s01_l01/2_26.png  7C24698      1\n",
      "27         s01_l01_2     s01_l01/2_27.png  7C24698      1\n",
      "28         s01_l01_2     s01_l01/2_28.png  7C24698      1\n",
      "29         s01_l01_2     s01_l01/2_29.png  7C24698      1\n",
      "...              ...                  ...      ...    ...\n",
      "182306  s04_l02_2760   s04_l02/2760_6.png  6B29644      0\n",
      "182307  s04_l02_2760   s04_l02/2760_7.png  6B29644      0\n",
      "182308  s04_l02_2760   s04_l02/2760_8.png  6B29644      0\n",
      "182309  s04_l02_2760   s04_l02/2760_9.png  6B29644      0\n",
      "182310  s04_l02_2760  s04_l02/2760_10.png  6B29644      0\n",
      "182311  s04_l02_2760  s04_l02/2760_11.png  6B29644      0\n",
      "182312  s04_l02_2760  s04_l02/2760_12.png  6B29644      0\n",
      "182313  s04_l02_2760  s04_l02/2760_13.png  6B29644      0\n",
      "182314  s04_l02_2760  s04_l02/2760_14.png  6B29644      0\n",
      "182315  s04_l02_2760  s04_l02/2760_15.png  6B29644      0\n",
      "182316  s04_l02_2760  s04_l02/2760_16.png  6B29644      0\n",
      "182317  s04_l02_2761   s04_l02/2761_1.png  1BB0874      0\n",
      "182318  s04_l02_2761   s04_l02/2761_2.png  1BB0874      0\n",
      "182319  s04_l02_2761   s04_l02/2761_3.png  1BB0874      0\n",
      "182320  s04_l02_2761   s04_l02/2761_4.png  1BB0874      0\n",
      "182321  s04_l02_2761   s04_l02/2761_5.png  1BB0874      0\n",
      "182322  s04_l02_2761   s04_l02/2761_6.png  1BB0874      0\n",
      "182323  s04_l02_2761   s04_l02/2761_7.png  1BB0874      0\n",
      "182324  s04_l02_2761   s04_l02/2761_8.png  1BB0874      0\n",
      "182325  s04_l02_2761   s04_l02/2761_9.png  1BB0874      0\n",
      "182326  s04_l02_2761  s04_l02/2761_10.png  1BB0874      0\n",
      "182327  s04_l02_2761  s04_l02/2761_11.png  1BB0874      0\n",
      "182328  s04_l02_2761  s04_l02/2761_12.png  1BB0874      0\n",
      "182329  s04_l02_2761  s04_l02/2761_13.png  1BB0874      0\n",
      "182330  s04_l02_2761  s04_l02/2761_14.png  1BB0874      0\n",
      "182331  s04_l02_2761  s04_l02/2761_15.png  1BB0874      0\n",
      "182332  s04_l02_2761  s04_l02/2761_16.png  1BB0874      0\n",
      "182333  s04_l02_2761  s04_l02/2761_17.png  1BB0874      0\n",
      "182334  s04_l02_2761  s04_l02/2761_18.png  1BB0874      0\n",
      "182335  s04_l02_2761  s04_l02/2761_19.png  1BB0874      0\n",
      "\n",
      "[182336 rows x 4 columns]\n",
      "(32, 100, 3)\n"
     ]
    },
    {
     "data": {
      "image/png": "[encoded data removed]",
      "text/plain": [
       "<Figure size 432x288 with 1 Axes>"
      ]
     },
     "metadata": {
      "needs_background": "light"
     },
     "output_type": "display_data"
    }
   ],
   "source": [
    "\"\"\"\n",
    "    Reading Data from files\n",
    "\"\"\"\n",
    "\n",
    "data = pd.read_csv(\"../../image/trainVal.csv\")\n",
    "print(data)\n",
    "data.head()\n",
    "#inputX = data[[\"Unnamed: 0\", \"w1 = 4\"]].to_numpy() #需要為 np.array 的形式!\n",
    "\n",
    "\n",
    "#img = cv2.imread(\"../../image/s01_l01/1_1.png\")\n",
    "img = cv2.imread(\"../../image/\" + data[\"image_path\"][0])\n",
    "print(img.shape)\n",
    "\n",
    "plt.imshow(img)\n",
    "plt.show()"
   ]
  },
  {
   "cell_type": "code",
   "execution_count": 5,
   "metadata": {
    "colab": {},
    "colab_type": "code",
    "id": "bU9311av0Qtx",
    "scrolled": true
   },
   "outputs": [
    {
     "name": "stdout",
     "output_type": "stream",
     "text": [
      "(60000, 28, 28, 1)\n"
     ]
    },
    {
     "data": {
      "image/png": "[encoded data removed]",
      "text/plain": [
       "<Figure size 432x288 with 1 Axes>"
      ]
     },
     "metadata": {
      "needs_background": "light"
     },
     "output_type": "display_data"
    }
   ],
   "source": [
    "# reshape the data based on what backend is in use (TensorFlow or Thean)\n",
    "if keras_backend.image_data_format() == 'channels_first': #Thean\n",
    "    X_train = X_train.reshape(-1, 1, 28, 28)\n",
    "    X_test = X_test.reshape(-1, 1, 28, 28)\n",
    "else: # TensorFlow\n",
    "    X_train = X_train.reshape(-1, 28, 28, 1)\n",
    "    X_test = X_test.reshape(-1, 28, 28, 1)\n",
    "    X_train_10 = X_train_10.reshape(-1, 28, 28, 1)\n",
    "    X_train_20 = X_train_20.reshape(-1, 28, 28, 1)\n",
    "    X_train_40 = X_train_40.reshape(-1, 28, 28, 1)\n",
    "    X_test_10 = X_test_10.reshape(-1, 28, 28, 1)\n",
    "    X_test_20 = X_test_20.reshape(-1, 28, 28, 1)\n",
    "    X_test_40 = X_test_40.reshape(-1, 28, 28, 1)\n",
    "\n",
    "print(X_train.shape)\n",
    "\n",
    "img = X_train[1, :, :, 0]\n",
    "label = y_train[1]\n",
    "\n",
    "# show the image and its label\n",
    "plt.imshow(img, cmap='gray')\n",
    "plt.title(\"True label: %d\" % label)\n",
    "plt.show()\n",
    "\n",
    "\n",
    "# convert data type and normalize the values (8-bit = 256 = 0...255)\n",
    "X_train = X_train.astype('float32') / 255\n",
    "X_test = X_test.astype('float32') / 255\n",
    "X_train_10 = X_train_10.astype('float32') / 255\n",
    "X_train_20 = X_train_20.astype('float32') / 255\n",
    "X_train_40 = X_train_40.astype('float32') / 255\n",
    "X_test_10 = X_test_10.astype('float32') / 255\n",
    "X_test_20 = X_test_20.astype('float32') / 255\n",
    "X_test_40 = X_test_40.astype('float32') / 255\n",
    "\n",
    "# convert the class labels to 10-dimensional class arrays:\n",
    "# - before: y_train = (n_samples, )\n",
    "# - after: Y_train = (n_samples, 10)\n",
    "#\n",
    "Y_train = np_utils.to_categorical(y_train, 10)\n",
    "Y_test = np_utils.to_categorical(y_test, 10)"
   ]
  },
  {
   "cell_type": "code",
   "execution_count": 6,
   "metadata": {
    "colab": {},
    "colab_type": "code",
    "id": "5pRy3MhF0Qt0"
   },
   "outputs": [
    {
     "name": "stdout",
     "output_type": "stream",
     "text": [
      "WARNING:tensorflow:From C:\\Users\\asus\\Miniconda3\\envs\\testJ\\lib\\site-packages\\tensorflow\\python\\framework\\op_def_library.py:263: colocate_with (from tensorflow.python.framework.ops) is deprecated and will be removed in a future version.\n",
      "Instructions for updating:\n",
      "Colocations handled automatically by placer.\n",
      "WARNING:tensorflow:From C:\\Users\\asus\\Miniconda3\\envs\\testJ\\lib\\site-packages\\keras\\backend\\tensorflow_backend.py:3445: calling dropout (from tensorflow.python.ops.nn_ops) with keep_prob is deprecated and will be removed in a future version.\n",
      "Instructions for updating:\n",
      "Please use `rate` instead of `keep_prob`. Rate should be set to `rate = 1 - keep_prob`.\n",
      "_________________________________________________________________\n",
      "Layer (type)                 Output Shape              Param #   \n",
      "=================================================================\n",
      "conv2d_1 (Conv2D)            (None, 28, 28, 32)        320       \n",
      "_________________________________________________________________\n",
      "batch_normalization_1 (Batch (None, 28, 28, 32)        128       \n",
      "_________________________________________________________________\n",
      "dropout_1 (Dropout)          (None, 28, 28, 32)        0         \n",
      "_________________________________________________________________\n",
      "conv2d_2 (Conv2D)            (None, 28, 28, 64)        18496     \n",
      "_________________________________________________________________\n",
      "batch_normalization_2 (Batch (None, 28, 28, 64)        256       \n",
      "_________________________________________________________________\n",
      "dropout_2 (Dropout)          (None, 28, 28, 64)        0         \n",
      "_________________________________________________________________\n",
      "conv2d_3 (Conv2D)            (None, 28, 28, 64)        36928     \n",
      "_________________________________________________________________\n",
      "batch_normalization_3 (Batch (None, 28, 28, 64)        256       \n",
      "_________________________________________________________________\n",
      "dropout_3 (Dropout)          (None, 28, 28, 64)        0         \n",
      "_________________________________________________________________\n",
      "conv2d_4 (Conv2D)            (None, 28, 28, 64)        36928     \n",
      "_________________________________________________________________\n",
      "batch_normalization_4 (Batch (None, 28, 28, 64)        256       \n",
      "_________________________________________________________________\n",
      "dropout_4 (Dropout)          (None, 28, 28, 64)        0         \n",
      "_________________________________________________________________\n",
      "conv2d_5 (Conv2D)            (None, 28, 28, 64)        36928     \n",
      "_________________________________________________________________\n",
      "batch_normalization_5 (Batch (None, 28, 28, 64)        256       \n",
      "_________________________________________________________________\n",
      "dropout_5 (Dropout)          (None, 28, 28, 64)        0         \n",
      "_________________________________________________________________\n",
      "conv2d_6 (Conv2D)            (None, 28, 28, 1)         577       \n",
      "=================================================================\n",
      "Total params: 131,329\n",
      "Trainable params: 130,753\n",
      "Non-trainable params: 576\n",
      "_________________________________________________________________\n",
      "None\n",
      "WARNING:tensorflow:From C:\\Users\\asus\\Miniconda3\\envs\\testJ\\lib\\site-packages\\tensorflow\\python\\ops\\math_ops.py:3066: to_int32 (from tensorflow.python.ops.math_ops) is deprecated and will be removed in a future version.\n",
      "Instructions for updating:\n",
      "Use tf.cast instead.\n",
      "Train on 60000 samples, validate on 10000 samples\n",
      "Epoch 1/2\n",
      "60000/60000 [==============================] - 32s 538us/step - loss: 0.0563 - acc: 0.8026 - val_loss: 0.0235 - val_acc: 0.8119\n",
      "Epoch 2/2\n",
      "60000/60000 [==============================] - 29s 482us/step - loss: 0.0239 - acc: 0.8140 - val_loss: 0.0197 - val_acc: 0.8134\n"
     ]
    },
    {
     "data": {
      "text/plain": [
       "'\\nprint(\"== 10% ==\")\\nmodel.fit(X_train_10, Y_train,\\n          batch_size=128,\\n          epochs=2,\\n          verbose=1,\\n          validation_data=(X_test_10, Y_test))\\n\\nscore = model.evaluate(X_test_10, Y_test, verbose=0)\\n\\nprint(\\'Test loss:\\', score[0])\\nprint(\\'Test accuracy:\\', score[1])\\n\\n\\nprint(\"== 20% ==\")\\nmodel.fit(X_train_20, Y_train,\\n          batch_size=128,\\n          epochs=2,\\n          verbose=1,\\n          validation_data=(X_test_20, Y_test))\\n\\nscore = model.evaluate(X_test_20, Y_test, verbose=0)\\n\\nprint(\\'Test loss:\\', score[0])\\nprint(\\'Test accuracy:\\', score[1])\\n\\n\\nprint(\"== 40% ==\")\\nmodel.fit(X_train_40, Y_train,\\n          batch_size=128,\\n          epochs=2,\\n          verbose=1,\\n          validation_data=(X_test_40, Y_test))\\n\\nscore = model.evaluate(X_test_40, Y_test, verbose=0)\\n\\nprint(\\'Test loss:\\', score[0])\\nprint(\\'Test accuracy:\\', score[1])\\n'"
      ]
     },
     "execution_count": 6,
     "metadata": {},
     "output_type": "execute_result"
    }
   ],
   "source": [
    "# create the CNN model\n",
    "model = Sequential()\n",
    "\n",
    "model.add(Conv2D(32, kernel_size=(3, 3),\n",
    "                 activation='relu',\n",
    "                 input_shape=(28, 28, 1),\n",
    "                 padding=\"same\"\n",
    "                ))\n",
    "model.add(BatchNormalization())\n",
    "model.add(Dropout(0.25))\n",
    "model.add(Conv2D(64, (3, 3), activation='relu', padding=\"same\"))\n",
    "model.add(BatchNormalization())\n",
    "model.add(Dropout(0.25))\n",
    "model.add(Conv2D(64, (3, 3), activation='relu', padding=\"same\"))\n",
    "model.add(BatchNormalization())\n",
    "model.add(Dropout(0.25))\n",
    "model.add(Conv2D(64, (3, 3), activation='relu', padding=\"same\"))\n",
    "model.add(BatchNormalization())\n",
    "model.add(Dropout(0.25))\n",
    "model.add(Conv2D(64, (3, 3), activation='relu', padding=\"same\"))\n",
    "model.add(BatchNormalization())\n",
    "model.add(Dropout(0.25))\n",
    "model.add(Conv2D(1, (3, 3), activation='relu', padding=\"same\"))\n",
    "\n",
    "print(model.summary())\n",
    "\n",
    "model.compile(loss='mean_absolute_error',\n",
    "              optimizer=Adam(),\n",
    "              metrics=['accuracy'])\n",
    "\n",
    "model.fit(X_train_40, X_train,\n",
    "          batch_size=128,\n",
    "          epochs=2,\n",
    "          verbose=1,\n",
    "          validation_data=(X_test_40, X_test))\n"
   ]
  },
  {
   "cell_type": "code",
   "execution_count": 7,
   "metadata": {},
   "outputs": [
    {
     "name": "stdout",
     "output_type": "stream",
     "text": [
      "== Noise remove accuracy ==\n",
      "Train loss: 0.019753999929626783\n",
      "Train accuracy: 0.8143207702318828\n",
      "Test loss: 0.01973995618224144\n",
      "Test accuracy: 0.8133596942901611\n"
     ]
    },
    {
     "data": {
      "image/png": "[encoded data removed]",
      "text/plain": [
       "<Figure size 432x288 with 1 Axes>"
      ]
     },
     "metadata": {
      "needs_background": "light"
     },
     "output_type": "display_data"
    }
   ],
   "source": [
    "print(\"== Noise remove accuracy ==\")\n",
    "score = model.evaluate(X_train_40, X_train, verbose=0)\n",
    "print('Train loss:', score[0])\n",
    "print('Train accuracy:', score[1])\n",
    "score = model.evaluate(X_test_40, X_test, verbose=0)\n",
    "print('Test loss:', score[0])\n",
    "print('Test accuracy:', score[1])\n",
    "\n",
    "X_train_10_removeNoise = model.predict(X_train_10)\n",
    "X_train_20_removeNoise = model.predict(X_train_20)\n",
    "X_train_40_removeNoise = model.predict(X_train_40)\n",
    "X_test_10_removeNoise = model.predict(X_test_10)\n",
    "X_test_20_removeNoise = model.predict(X_test_20)\n",
    "X_test_40_removeNoise = model.predict(X_test_40)\n",
    "\n",
    "\n",
    "img = X_train_40_removeNoise[1, :, :, 0]\n",
    "label = y_train[1]\n",
    "\n",
    "# show the image and its label\n",
    "plt.imshow(img, cmap='gray')\n",
    "plt.title(\"True label: %d\" % label)\n",
    "plt.show()"
   ]
  },
  {
   "cell_type": "code",
   "execution_count": 8,
   "metadata": {},
   "outputs": [
    {
     "name": "stdout",
     "output_type": "stream",
     "text": [
      "== 10% with remove noise ==\n",
      "Train on 60000 samples, validate on 10000 samples\n",
      "Epoch 1/2\n",
      "60000/60000 [==============================] - 7s 123us/step - loss: 0.3321 - acc: 0.8981 - val_loss: 0.0916 - val_acc: 0.9708\n",
      "Epoch 2/2\n",
      "60000/60000 [==============================] - 6s 104us/step - loss: 0.1334 - acc: 0.9591 - val_loss: 0.0724 - val_acc: 0.9767\n",
      "Test loss: 0.07240031437918078\n",
      "Test accuracy: 0.9767\n",
      "== 20% with remove noise ==\n",
      "Train on 60000 samples, validate on 10000 samples\n",
      "Epoch 1/2\n",
      "60000/60000 [==============================] - 6s 106us/step - loss: 0.0751 - acc: 0.9773 - val_loss: 0.0419 - val_acc: 0.9868\n",
      "Epoch 2/2\n",
      "60000/60000 [==============================] - 6s 106us/step - loss: 0.0635 - acc: 0.9809 - val_loss: 0.0385 - val_acc: 0.9867\n",
      "Test loss: 0.03852416750941775\n",
      "Test accuracy: 0.9867\n",
      "== 40% with remove noise ==\n",
      "Train on 60000 samples, validate on 10000 samples\n",
      "Epoch 1/2\n",
      "60000/60000 [==============================] - 6s 104us/step - loss: 0.0624 - acc: 0.9818 - val_loss: 0.0411 - val_acc: 0.9862\n",
      "Epoch 2/2\n",
      "60000/60000 [==============================] - 6s 104us/step - loss: 0.0548 - acc: 0.9832 - val_loss: 0.0415 - val_acc: 0.9872\n",
      "Test loss: 0.041496843585325405\n",
      "Test accuracy: 0.9872\n"
     ]
    }
   ],
   "source": [
    "# create the CNN model\n",
    "model2 = Sequential()\n",
    "\n",
    "model2.add(Conv2D(32, kernel_size=(3, 3),\n",
    "                 activation='relu',\n",
    "                 input_shape=(28, 28, 1)\n",
    "                ))\n",
    "model2.add(Conv2D(64, (3, 3), activation='relu'))\n",
    "model2.add(MaxPooling2D(pool_size=(2, 2)))\n",
    "model2.add(Dropout(0.25))\n",
    "model2.add(Flatten())\n",
    "model2.add(Dense(128, activation='relu'))\n",
    "model2.add(Dropout(0.5))\n",
    "model2.add(Dense(10, activation='softmax'))\n",
    "\n",
    "model2.compile(loss='categorical_crossentropy',\n",
    "              optimizer=Adadelta(),\n",
    "              metrics=['accuracy'])\n",
    "\n",
    "print(\"== 10% with remove noise ==\")\n",
    "model2.fit(X_train_10_removeNoise, Y_train,\n",
    "          batch_size=128,\n",
    "          epochs=2,\n",
    "          verbose=1,\n",
    "          validation_data=(X_test_10_removeNoise, Y_test))\n",
    "\n",
    "score = model2.evaluate(X_test_10_removeNoise, Y_test, verbose=0)\n",
    "print('Test loss:', score[0])\n",
    "print('Test accuracy:', score[1])\n",
    "\n",
    "\n",
    "print(\"== 20% with remove noise ==\")\n",
    "model2.fit(X_train_20_removeNoise, Y_train,\n",
    "          batch_size=128,\n",
    "          epochs=2,\n",
    "          verbose=1,\n",
    "          validation_data=(X_test_20_removeNoise, Y_test))\n",
    "\n",
    "score = model2.evaluate(X_test_20_removeNoise, Y_test, verbose=0)\n",
    "print('Test loss:', score[0])\n",
    "print('Test accuracy:', score[1])\n",
    "\n",
    "\n",
    "print(\"== 40% with remove noise ==\")\n",
    "model2.fit(X_train_40_removeNoise, Y_train,\n",
    "          batch_size=128,\n",
    "          epochs=2,\n",
    "          verbose=1,\n",
    "          validation_data=(X_test_40_removeNoise, Y_test))\n",
    "\n",
    "score = model2.evaluate(X_test_40_removeNoise, Y_test, verbose=0)\n",
    "print('Test loss:', score[0])\n",
    "print('Test accuracy:', score[1])"
   ]
  },
  {
   "cell_type": "code",
   "execution_count": null,
   "metadata": {},
   "outputs": [],
   "source": []
  }
 ],
 "metadata": {
  "colab": {
   "collapsed_sections": [],
   "name": "1_mnist.ipynb",
   "provenance": [],
   "version": "0.3.2"
  },
  "kernelspec": {
   "display_name": "Python 3",
   "language": "python",
   "name": "python3"
  },
  "language_info": {
   "codemirror_mode": {
    "name": "ipython",
    "version": 3
   },
   "file_extension": ".py",
   "mimetype": "text/x-python",
   "name": "python",
   "nbconvert_exporter": "python",
   "pygments_lexer": "ipython3",
   "version": "3.7.3"
  }
 },
 "nbformat": 4,
 "nbformat_minor": 1
}
